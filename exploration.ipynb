{
 "cells": [
  {
   "cell_type": "code",
   "execution_count": 13,
   "metadata": {},
   "outputs": [],
   "source": [
    "import pandas as pd\n",
    "df = pd.read_csv('lib/task.csv')"
   ]
  },
  {
   "cell_type": "code",
   "execution_count": 14,
   "metadata": {},
   "outputs": [
    {
     "data": {
      "text/html": [
       "<div>\n",
       "<style scoped>\n",
       "    .dataframe tbody tr th:only-of-type {\n",
       "        vertical-align: middle;\n",
       "    }\n",
       "\n",
       "    .dataframe tbody tr th {\n",
       "        vertical-align: top;\n",
       "    }\n",
       "\n",
       "    .dataframe thead th {\n",
       "        text-align: right;\n",
       "    }\n",
       "</style>\n",
       "<table border=\"1\" class=\"dataframe\">\n",
       "  <thead>\n",
       "    <tr style=\"text-align: right;\">\n",
       "      <th></th>\n",
       "      <th>Unnamed: 0</th>\n",
       "      <th>Title</th>\n",
       "      <th>Synopsis</th>\n",
       "      <th>Tag</th>\n",
       "    </tr>\n",
       "  </thead>\n",
       "  <tbody>\n",
       "    <tr>\n",
       "      <th>0</th>\n",
       "      <td>0</td>\n",
       "      <td>I tre volti della paura</td>\n",
       "      <td>Note: this synopsis is for the orginal Italian...</td>\n",
       "      <td>cult</td>\n",
       "    </tr>\n",
       "    <tr>\n",
       "      <th>1</th>\n",
       "      <td>1</td>\n",
       "      <td>Mitt liv som hund</td>\n",
       "      <td>The action takes place in the years 1958-1959 ...</td>\n",
       "      <td>cult</td>\n",
       "    </tr>\n",
       "    <tr>\n",
       "      <th>2</th>\n",
       "      <td>2</td>\n",
       "      <td>The Brood</td>\n",
       "      <td>At the Somafree Institute, Dr. Hal Raglan humi...</td>\n",
       "      <td>cult</td>\n",
       "    </tr>\n",
       "    <tr>\n",
       "      <th>3</th>\n",
       "      <td>3</td>\n",
       "      <td>The Haunted</td>\n",
       "      <td>This creepy and scary story centers around The...</td>\n",
       "      <td>paranormal</td>\n",
       "    </tr>\n",
       "    <tr>\n",
       "      <th>4</th>\n",
       "      <td>4</td>\n",
       "      <td>The Frozen Ground</td>\n",
       "      <td>The film opens in an Anchorage motel room in 1...</td>\n",
       "      <td>dramatic</td>\n",
       "    </tr>\n",
       "    <tr>\n",
       "      <th>...</th>\n",
       "      <td>...</td>\n",
       "      <td>...</td>\n",
       "      <td>...</td>\n",
       "      <td>...</td>\n",
       "    </tr>\n",
       "    <tr>\n",
       "      <th>1561</th>\n",
       "      <td>1561</td>\n",
       "      <td>Chuck &amp; Buck</td>\n",
       "      <td>Buck O'Brien (Mike White) is a 27-year-old ama...</td>\n",
       "      <td>cult</td>\n",
       "    </tr>\n",
       "    <tr>\n",
       "      <th>1562</th>\n",
       "      <td>1562</td>\n",
       "      <td>The Manster</td>\n",
       "      <td>American foreign news correspondent Larry Stan...</td>\n",
       "      <td>cult</td>\n",
       "    </tr>\n",
       "    <tr>\n",
       "      <th>1563</th>\n",
       "      <td>1563</td>\n",
       "      <td>Le grand bleu</td>\n",
       "      <td>Two children, Jacques Mayol (Jean-Marc Barr) a...</td>\n",
       "      <td>cult</td>\n",
       "    </tr>\n",
       "    <tr>\n",
       "      <th>1564</th>\n",
       "      <td>1564</td>\n",
       "      <td>You're a Big Boy Now</td>\n",
       "      <td>Bernard Chanticleer (Peter Kastner), called \"B...</td>\n",
       "      <td>cult</td>\n",
       "    </tr>\n",
       "    <tr>\n",
       "      <th>1565</th>\n",
       "      <td>1565</td>\n",
       "      <td>Petey Wheatstraw</td>\n",
       "      <td>Petey Wheatstraw (Rudy Ray Moore) is born duri...</td>\n",
       "      <td>paranormal</td>\n",
       "    </tr>\n",
       "  </tbody>\n",
       "</table>\n",
       "<p>1566 rows × 4 columns</p>\n",
       "</div>"
      ],
      "text/plain": [
       "      Unnamed: 0                    Title  \\\n",
       "0              0  I tre volti della paura   \n",
       "1              1        Mitt liv som hund   \n",
       "2              2                The Brood   \n",
       "3              3              The Haunted   \n",
       "4              4        The Frozen Ground   \n",
       "...          ...                      ...   \n",
       "1561        1561             Chuck & Buck   \n",
       "1562        1562              The Manster   \n",
       "1563        1563            Le grand bleu   \n",
       "1564        1564     You're a Big Boy Now   \n",
       "1565        1565         Petey Wheatstraw   \n",
       "\n",
       "                                               Synopsis         Tag  \n",
       "0     Note: this synopsis is for the orginal Italian...        cult  \n",
       "1     The action takes place in the years 1958-1959 ...        cult  \n",
       "2     At the Somafree Institute, Dr. Hal Raglan humi...        cult  \n",
       "3     This creepy and scary story centers around The...  paranormal  \n",
       "4     The film opens in an Anchorage motel room in 1...    dramatic  \n",
       "...                                                 ...         ...  \n",
       "1561  Buck O'Brien (Mike White) is a 27-year-old ama...        cult  \n",
       "1562  American foreign news correspondent Larry Stan...        cult  \n",
       "1563  Two children, Jacques Mayol (Jean-Marc Barr) a...        cult  \n",
       "1564  Bernard Chanticleer (Peter Kastner), called \"B...        cult  \n",
       "1565  Petey Wheatstraw (Rudy Ray Moore) is born duri...  paranormal  \n",
       "\n",
       "[1566 rows x 4 columns]"
      ]
     },
     "execution_count": 14,
     "metadata": {},
     "output_type": "execute_result"
    }
   ],
   "source": [
    "df"
   ]
  },
  {
   "cell_type": "code",
   "execution_count": 15,
   "metadata": {},
   "outputs": [
    {
     "data": {
      "text/plain": [
       "Tag\n",
       "cult          1033\n",
       "dramatic       167\n",
       "paranormal     366\n",
       "Name: Title, dtype: int64"
      ]
     },
     "execution_count": 15,
     "metadata": {},
     "output_type": "execute_result"
    }
   ],
   "source": [
    "df.groupby(['Tag'])['Title'].count()"
   ]
  },
  {
   "cell_type": "code",
   "execution_count": 16,
   "metadata": {},
   "outputs": [
    {
     "data": {
      "text/plain": [
       "count     1566.000000\n",
       "mean      5219.414432\n",
       "std       4800.731210\n",
       "min        781.000000\n",
       "25%       2587.500000\n",
       "50%       3909.000000\n",
       "75%       5890.000000\n",
       "max      48487.000000\n",
       "Name: synopsis_length, dtype: float64"
      ]
     },
     "execution_count": 16,
     "metadata": {},
     "output_type": "execute_result"
    }
   ],
   "source": [
    "def len_syn(l):\n",
    "    return len(l['Synopsis'])\n",
    "\n",
    "df[\"synopsis_length\"] = df.apply(lambda x: len_syn(x), axis=1)\n",
    "df.synopsis_length.describe()"
   ]
  },
  {
   "cell_type": "code",
   "execution_count": 25,
   "metadata": {},
   "outputs": [
    {
     "data": {
      "text/plain": [
       "'It is November 16th, 1983 in Hawkins, Indiana. Inside Hawkins National Laboratory, a scientist bursts out a door, running from something that isn\\'t there. He runs to the elevator, tapping the floor button repeatedly, looking back and forth. He then gets in and taps the button again. He looks forward then up slowly, as he hears and sees something that we can\\'t see. He is then pulled up as the elevator doors close, yelling loudly.We then see the Wheeler residence, as four friends; Mike Wheeler, Will Byers, Dustin Henderson, and Lucas Sinclair, play Dungeons & Dragons. We then see that the Demogorgon is played, as Will is pressured to cast Fireball. He rolls the dice but it lands on the floor, with the group scrambling for it. Mike is then called by his mother, Nancy, to end the game. Meanwhile, the trio find it, but it is a 7, as only a 13 or higher can cast a Fireball, which means Will was eaten. Will then leaves, after telling Mike that it was a 7.Will rides his bike through the woods, passing by Hawkins Laboratory. He then sees something weird in front of him, as he accidentally falls down a steep hill and crashes. He then abandons his bike and runs to his house. He unlocks the backdoor to find nobody home, as the thing outback is probably chasing him. He tries to call his parents, but only weird breathing is heard. Something then unlocks the bolt on the door. Will then runs to the shed in the backyard, where he sees the thing. The light glows brightly and then fades, revealing no one there anymore.The next morning, November 17th, Police Chief Jim Hopper wakes up shirtless. He then walks outside, enjoying the view and then prepares for work, smoking a cigarette. He then leaves.Will\\'s mother, Joyce, and his brother, Jonathan, are arguing if Will if ever came home. It is then revealed that both were working; Jonathan took the night-shift. Joyce then calls Nancy, and then asks if Will went home, she replies that he left around 8:00. They all conclude, including his friends, that Will probably left to go to school early. As they arrive, the trio are then bullied by Troy, the class bully, and an accomplice. Dustin is then picked on because of his condition, cleidocranial dysplasia, and his ability to flex bone. Lucas and Mike then acknowledge his ability.Two students, Nancy Wheeler, Mike\\'s sister, and Barbara Holland, Nancy\\'s friend, then discuss before school. Right after, Nancy\\'s boyfriend, Steve, and he start making out in the bathroom. Nancy has to leave, while Steve asks if she would like to go anywhere, but she declines - having to study for her test. He then asks to come over at 8 pm, to which she reluctantly agrees.Hopper then arrives at the police station. The assistant, Flo, tells Hopper that Joyce can\\'t find her son. Drunk, he ignores Flo, but goes anyway. He then types a police report on Will, labeling him as \"missing\". Joyce and Hopper don\\'t instantly find a solution, as Joyce is trying to engage with him in a conversation, while Hopper is being unreliable.Three people then arrive at the Laboratory, where they are greeted by Dr. Martin Brenner, one of the Lba\\'s key scientists. The four then put on Hazmat suits, and go down the elevator to a dark room. While looking, they see black roots and flesh-like substances on the walls. They then come across a giant flesh-root substance on the wall. One of them asks about a girl, Brenner replies, \"She can\\'t have gone far.\"A girl wearing a hospital gown with a shaved head is then seen walking through the forest, alone. She sees the owner of a restaurant walk out, and decides to go there. She enters without notice, but as soon as she eats the food, the owner comes and tries to stop her, but is surprised. Hawkins Middle School then ends. Dustin, Lucas, and Mike then asks one of the teachers, Scott Clarke, if the Heathkit Ham Shack radio had arrived. He says yes, due to them being prime members of the AV club. A school staff member then asks for them, as they are being questioned for the disappearance of Will. They are told to not investigate, for their safety.Joyce then goes to look for Will at his fort in the forest, \"Castle Byers\". She then remembers getting him tickets to see the 1982 film, Poltergeist. But in reality, he is nowhere there at all. Jonathan is there looking for him as well, both calling out to him. Meanwhile, the restaurant owner feeds the mysterious girl. He asks him if she escaped, to no answer. He then takes the food and asks her for her name, she replies \"Eleven\" after he asks what the tatto \"011\" means. He then gives back the food and calls authorities to identify her. She then sees a fan and consciously stares at it; it stops.Hopper and his team then find Will\\'s bike where it was, exactly in the same position. Brenner and others are then shown at the Laboratory tapping in on conversations. We then switch to Joyce trying to reach her ex-husband Lonnie, but his girlfriend, Cynthia, answers and hangs up. She then calls a neighbor, but the answering machine beeps. Hopper then arrives and gives them Will\\'s bike, and he reveals evidence that Will came home. The family dog then barks at the shed, while Hopper investigates. He finds something behind a shelf, and the light blinking until one of his deputies come in, scaring Hopper. He then announces a search party for them to announce to the citizens.Mike and his family start fighting over investing for Will, but his family says \"No\" by default, but his father enrages him and his mother, Karen. The search party is then shown in the forest. Hopper and Mr. Clarke then exchange a conversation regarding WIll, and then Sarah, her daughter. Clarke is then informed that her daughter had died long ago, with the saying \"lives with her mom in the city\" implies that she is buried there.Mike and Lucas then discuss over the comm radios that they have. Mike suggests that Will might\\'ve put himself in danger to protect the trio, instead of protecting them, leading to apparent sacrifice. Lucas and Mike then resolve to meet each other at 10. While Mike leaves, he sees Steve climbing the window to Nancy\\'s bedroom, with her soon closing it. The owner, Benny Hammond, and 011 then exchange a little conversation, before Agent Connie Frazer, disguised as though she is from Social Services, arrives. 011, looking from a distance, sees Frazer shoot Benny in the head, killing him. She then kills two agents and escapes through the backdoor.Dustin, Lucas, and Mike are then going down the back road, \"Mirkwood\". They cross the restricted area of the woods, with Mike telling Dustin to stay on ch.6, and to not do anything stupid. Steve and Nancy are then shown studying, with him reading index cards that Nancy needs to give answer to. Steve then suggests to strip off clothing for each one if Nancy gets it correct/incorrect. After she answers one wrong, they make out again on the bed, with Nancy asking if he was in it just for sex. He replies no, and then jokes around before getting back to studying.Joyce and Jonathan are then back at home on a bed, mourning over Will and his disappearance. Jonathan then remorsefully regrets that he should\\'ve been there for Will, which she tells him not to worry about it because it is not his fault. She then gets a mysterious phone call from, what we believe, Will but it shorts out after she asks the unknown caller, \"What have you done to my boy?\", to which there is no one on the phone. They then try to console each other.Dustin, Lucas, and Mike then are shown going through the forest. They hear rustling and then see 011, to their surprise. They decide to take her to Mike\\'s house, where they ask her miscellaneous questions. Mike then observes that she is scared and cold. She tries to change out of her wet shirt, but the trio are disgusted because of gender. Mike directs her to the bathroom, where she changes. Dustin and Lucas thinks she is paranoid, but Mike stays sane, telling them to keep it a secret. Mike then offers 011 a sleeping bag, where he nicknames her \"El\". They both then sleep.On November 18th, Joyce and Jonathan discuss xeroxing a missing poster for Will when Hopper arrives, telling Joyce that Will hasn\\'t been found, to her anger. She discusses the \"phone call\", with Hopper dismissing it as a prank albeit her pleads. Jonathan offers to go to Lonnie\\'s instead of Hopper, but he says no instantly. Mike then tells El to get help, but she says no and implies \"bad people\" who want to kill her. Brenner then listens to Joyce\\'s 911 call; the search party is still unsuccessfully looking. Steve then invites Nancy for a party, to which she agrees, but they react toxic towards Jonathan and Will.Dustin and Lucas, at school, don\\'t see Mike, staying home to look after El. Jonathan, putting on The Clash\\'s \"Should I Stay or Should I Go?\", remembers him and Will listening to it as he drives to Lonnie. Joyce, however, buys a new phone for free due to Jonathan having her money. A handyman, an agent for the Laboratory, verifies that Byers\\' aren\\'t home, as they see ooze dripping from the shed\\'s walls. Meanwhile, while Max is showing her Yoda, El remembers being locked by Brenner into solitary confinement, with her calling him \"Papa\", confirming that she is the girl that he and others talked about before. She also recognizes Will when Mike shows her a picture of him.Meanwhile, Joyce sets up the new phone and waits for another call. Hopper investigate Benny\\'s death, placed falsely like a suicide. Meanwhile, Jonathan visits Lonnie, confirming that Will is not there but that he is drunk. Jonathan angrily gives him the missing poster for Will due to his arrogance and drunk behavior. Lucas and Dustin angrily attempt to tell Karen about El after finding out that he spent all day with her, but she locks the door without arms, revealing her psychokinesis as well as a nosebleed.Hopper goes to the station to talk to the customer that was there when 011 arrived, he gives slight information but not enough to consider it other than a suicide, but he gives information on El, which Hopper mistakes for Will. Meanwhile, Karen and family, along with Mike, Dustin, and Lucas all have dinner. They are acting weirdly to contain the powerful surprise that kept them in. El then walks by, when Karen hears something, but Dustin fakes a spasm to successfully draw attention away. Meanwhile, the search party looks for Will, mistakenly for El, where they find the tag of El\\'s hospital gown in one of the Laboratory\\'s drain pipes. They then find the fence of the Lab.El, playing with Mike\\'s radio, is given leftovers by Mike, where he gives the definition of friend, and a spit swear by Lucas. Barbara and Nancy then arrive at Steve\\'s house, but Barbara is suspicious since two of Steve\\'s \"friends\" had sex since seventh grade. Hopper wonders suspiciously about the events: The last missing person was in Summer \\'23 and last suicide was in Fall \\'61, long ago. El, later that night, tells them that Will is somewhere else, hiding from something terrible, characterized by the Demogorgon.Jonathan, with his camera, takes pictures of the scene near Will\\'s bike. He hears screaming; he runs to find Steve and the others drinking and swimming, taking pictures of it, including Nancy having sex with Steve. Joyce then gets another \"call\" from Will, but it shorts again. \"Should I Stay or Should I Go?\" then starts playing in the house, with Joyce believing it a message, encountering something trying to go through the wall, but returns when music plays. Barbara, having cut her hand with a drop of blood in the water, is then taken by something outside, leaving nothing.Barbara wakes up in a place similar to the pool, but it is empty, everything is covered in black root, and it\\'s cold. She is later dragged down by a creature, which appears to be an abnormal man with no face. Nancy, having sex, cannot seem to hear her as she is dragged down.Nancy, realizing that she is late, gets in trouble with Karen but she pushes her away, not letting her connect to her at all, stating that \"nothing happened\". Jonathan, after trying to communicate with Will via lights, tells her to stop. Simultaneously, Dustin, Mike, and Lucas prep to look for Will again, but go to school. Before leaving, Mike tells her to be there at 3:15 - she repeats it as \"Three-One-Five\". Hopper, during the morning/afternoon, goes to Hawkins Laboratory and after an incident, is let in to investigate the drain via security tapes unsuccessfully. El, during this, watches a Coca-Cola commercial, flashing back to the Lab: Hooked up to an Electroencephalograph machine, she crushes and empty Coke can with telekinesis, having a nosebleed after.On Novermber 19th, Joyce, finding Christmas lights, decides to set up an intricate system to indicate Will\\'s position, but runs out. She stocks up on them at the store, and decides to check. Meanwhile, Hopper is convinced that they are lying, as there was rainy weather. That didn\\'t show up on tape. Brenner and two other people send a man through the fleshy substance in the Laboratory, revealed to be a portal. He documents what he sees, but is then killed by the creature, leaving only the bloody tether.Jonathan, later, decides to enlarge the photos he took, but is spotted by Nicole, one of Steve\\'s friends, who ambush his car, rip the photos, and break his camera desperately. Karen then visits Joyce for dinner, eating her casserole, but her 3-year-old toddler, Holly, sees lights leading into Will\\'s room, where the monster tries to enter. At the same time, Hopper researches anything Hawkins Laboratory-related. Nancy, worried about Barbara\\'s disappearance, calls her mother.While at the power lines, El has a flashback of her strapped to the machine again to attempt infliction on a cat, refusing. As she is about to be locked away, she slams a guard against the wall and snaps one\\'s neck, killing both. Brenner sees this and calls it \"incredible\". El then meets up with Lucas, Dustin, and Mike as they travel to find Will again, as Mike bonds with El, telling her about Troy tripping him. Later Nancy finds Barbara\\'s car and goes to Steve\\'s house, only to find the creature and escapes.Back at the Byers\\' residence, Joyce finds the Christmas lights leading her to a hidden drawer. Grabbing a set of unplugged Christmas lights, she asks, \"Will, are you here?\" They glow mysteriously once. She tells him to blink the lights once for \"Yes\", twice for \"No\", asking him, \"Are you alive?\", to which the lights blink immensely once. She then asks, \"Are you safe?\", to which the lights immensely blink: Twice. Will is then lost as the lights don\\'t blink anymore. She then paints the alphabet on the wallpaper, and hangs a light above each letter to create more complex messages. Hopper, with another deputy, search through the library, finding out that the Laboratory is CIA-sanctioned and being called to the quarry. Just around the same period, El lead the trio to Will\\'s house, stating that he\\'s \"hiding\" there, which helps her become accused of lying by them. Suddenly, Dustin sees a police cruiser and ambulance, following them.Joyce, finishing the project, then asks \"Will\" where he is. The lights slowly spell out the sentence, \"Right here.\" Joyce, now confused and scared, asks Will what she should do as to finding him. The letters then slowly, and musically intensely, spell, \"Run.\" Just as the monster enters, Joyce looks behind to find it breaking through the wallpaper and runs out.Following the cops, Dustin, El, Lucas, and Mike end up at the quarry. At the same time, Joyce runs into Jonathan and hugs him. Mike then snaps at El for lying, and leaves. He arrives home, and hugs Karen very sadly. Hopper watches emotionally as well as the others as Will is pulled out of the water. Dead.Hopper then comes to Will\\'s home, where he finds a scared Joyce with the letters on the wall, with her describing the creature that came out of the wall as \"almost human but it wasn\\'t. It had these long arms and it didn\\'t have a face.\" Hopper thinks she is experiencing grief, and tells her the aftermath following Sarah\\'s death, but Joyce finds it completely irrelevant. He warns her to get some sleep, and encourages her to look at Will in the morgue. Instead, she arms herself with a ax and stays awake.Mike, upset with El over Will\\'s \"discovery\", tells her that she did something that \"sucks\" and that Lucas was all along right about her. However, she tunes the radio to Will\\'s presence, being able to hear but not speak to him, and hears him singing. However, it is only seconds brief, but it gives Mike proof that Will is alive.On November 20th, at the morgue, Jonathan leaves at the sight of Will, but Joyce asks for proof of the birthmark on his right arm, cutting to Hopper. Hopper ensures Jonathan that Joyce will be fine, and everything will be alright. Just then, an enraged Joyce walks out, refusing to sign the documents. Jonathan then yells at her that Will is dead, parting ways soon after an audience appears.Nancy, after school, tells Steve that she went back to look for Barbara, but to no avail. She also details the monster had no face, same as Joyce\\'s description. However, Steve is worried about his accusation by his parents while Nancy is focused on Barbara. She then leaves angrily. El then tunes to Will again, but he sounds different: All decide to disguise El to get her to Mr. Clarke\\'s Heathkit. Later, Nancy is interrogated by Hooper and a deputy, giving some false information that was verified by the police with real.The trio take El to school and try to sneak into Mr. Clarke\\'s room, but are discovered by him soon later. He negotiates a deal soon after that if they attend a assembly honoring Will Byers, he will let them use the Heathkit the rest of the day, to which they accept. During the assembly, however, Mike sees Troy laughing at his funeral and confronts and then pushes him. However, before he can attack, he is stopped by El and urinates on himself, to the school\\'s humiliation. Meanwhile, Nancy discovers the monsters on one of Jonathan\\'s ripped photographs and explains it to him, who realizes that his mother was right. Hopper then interrogates the man who found Will, saying that someone didn\\'t want anybody getting close to the body.El is taken to the Heathkit, where she remembers from the Lab that she was told to listen to a certain man via her own mind. WHile Dustin, Lucas, and Mike watch, the light burns out as they listen to Will engaging in a conversation with Joyce. However, at the same time, after Will disappears, Joyce hacks a hole in the house and the frequency fries the Heathkit, suffering another nosebleed. Nancy and Jonathan then enlarge and brighten the ripped photo, giving clear evidence of the monster and the possibility of Will and Barbara\\'s existence. Hopper then breaks into the morgue and knifes Will\\'s body open which reveals it a stuffed, life-like doll of Will. Lonnie then arrives to ensure Joyce\\'s safety. Around the same time as well, Hopper breaks in and discovers the lab\\'s gate, and possibly El\\'s bedroom, but is knocked unconscious. Lonnie intoxicates Joyce with alcohol, and tries to convince her to let Will go; Jonathan arrives and asks him to get out, but he refuses and scrutinizes him for also getting caught up in Joyce.Lucas, Dustin, and Mike discuss about Will\\'s existence, as Mike brings up El\\'s leading towards Will\\'s house, flipping the Dungeons & Dragons game upside down, and the symbolism of the bottom board: They discover that Will himself is trapped in the \"Upside Down\": The Vale of Shadows, a \"dark echo\" of our habitable dimension that is uninhabitable, dark, decaying, and deathly, plus filled with monsters: an alternate dimension. Hopper then wakes up in his home. Sensing something conspicuous, he tears apart every appliance and finds a microphone in the light-bulb fixture, his house being bugged after he arrived . Everyone attends Will\\'s funeral, as everyone pays their respects. Joyce then remembers Will drawing a mythical figure, a \"wizard\" that can shoot fireballs, but she comments on the fact that they are green because the red crayon is missing. Later, Brenner and other scientists listen to the trio with El at the Heathkit.Jonathan and Nancy grab a revolver from a nearby car at the funeral to devise a plan. At the funeral, Dustin, Lucas, and Mike ask Mr. Clarke about inter-dimensional travel, in which he gives \"the flea and the acrobat\" theory: An acrobat on a tightrope can go forward and backward, but a flea can go the same but sideways and upside down, but a gateway can be created by using energy to rip a hole in space-time. He also gives signs of a gateway: The disruption of the electromagnetic field, which would affect compasses, the environment, and numerous others. Soon after the funeral, Lonnie removes the Christmas lights and boards up the hole. At the same time, Dustin discovers the compasses are not pointing true North; they are disrupted by the gate\\'s energy, drawing the compasses towards it, confirming Clarke\\'s theories. Lonnie then admits that he planned the funeral for finance, using Joyce.The trio, along with El, walk in the direction of the compass to the portal. Along the way, El has a flashback: Using a sensory-deprivation tank and hooked to the wave machine, they use her to collect information from a Russian man. Realizing something, she asks Mike to turn back, refusing to do so, as they continue their trek. Around the same time, Nancy and Jonathan walk in the forest but both argue as well, damaging their relationship towards one another. Hopper then arrives at the Byers\\' home, shushing her in case of her home being bugged, but he can\\'t find the device after looking, admitting that she was right all along.At the junkyard hangout, the compasses suddenly turn back home weirdly. While trying to figure out what is going on, Lucas blames El due to her telekinetic abilities. Looking at her sleeve, he sees blood, fresh evidence that El used her powers, which she admits as \"not safe\". Lucas and Mike then fight, during which El telekinetically knocks out Lucas by flying him onto a metal plate. Mike then snaps at El for doing so, and she escapes. She then flashes-back to finding the Russian, where she \"casts Shadowwalk\" - projects herself on the astral plane to locate people - on him, but finds the monster and it gives chase. Lucas then heads home, angered and sad.Nancy, still walking in the woods with Jonathan, hears something. They both find a severely-wounded deer in the woods, possibly hit by a car and whimpering in pain. Jonathan then loads the gun to euthanize the deer under Nancy\\'s suggestion, but it is taken away by the creature. They then find a trail of blood left by the deer, however, Nancy tracks it to a separate gate under a tree and goes alone. She ends up in the Upside Down, finding the creature eating the deer. She backs away, but she steps on a root which attracts the creature. She screams as she runs away, with Jonathan unable to find her as the gate closes. But at the last second, Nancy is pulled out by Jonathan before the gate closes and the monster gets her.Steve, along with his friends, pay a visit to Nancy\\'s House. However, as he climbs her windows, Steve sees Jonathan putting a towel on Nancy and comforting her, which he ultimately mistakes as cheating on her. Nancy, after encountering the monster, is intensely scarred and frightened, asking Jonathan to stay with her for company. She asks him to sleep with him on her bed, but that\\'s about the only thing that\\'s a little bit sexual. The next morning, she finds her upright and sleep-deprived, and both decide to kill it finally.Mike, lonely and sad, remembers El\\'s spot before he furiously kicks it in, depressed. Meanwhile, Hopper tracks down Terry Ives\\', the woman claiming to have her daughter taken, address. At her house, Nancy and Jonathan late the monster\\'s location will Barbara and the deer\\'s last locations, finding an average distance of a mile or less, finding that it can \"smell\" blood, and they sneak out of the house to buy weapons at an army surplus store.Frazer, disguised as a newsletter editor, offers participation of students to a weekly AV \"newsletter\" to Clarke, with him giving the names of Dustin, Lucas, and Mike to her. Dustin, arriving at Mike\\'s place, contemplates on reconciling with Lucas by shaking his hand, a sign of forgiveness from whoever \"drew blood\" or started a fight first. Dustin then packs his and Mike\\'s stuff to get Lucas.El has another flashback: Brenner tells her that \"today, we make contact\". She then wakes up from apparent sleep with no wig on. She puts it on, but decides to take it off. She then screams at a nearby lake, which violently ripples the water and scares off a birds. Meanwhile, Karen discovers that Nancy is missing. At Lucas\\', he decides to shake Mike\\'s hand under a condition that they forget 011, and they go straight forward. Lucas disagrees as to El, but Mike believes that El was protecting them. They end up disagreeing completely, and Lucas decides to fly solo while Mike travels with Dustin. El, however, enters a grocery store, getting another flashback; Brenner introducing her to colleagues, where she is lowered to apparently find the monster. She then steals Eggos, slamming the sliding doors violently in front of an employee calling her out. The duo notice this and travel in the direction that she most likely went, with a stranger watching from afar.Joyce and Hopper travel to Terry\\'s home, where they find her fixated on a small TV, unable to speak or move. Her sister explains that she studied in MK Ultra training at the Laboratory in the \\'50\\'s; she would be drugged, stripped and put in isolation tanks, sensory-deprivation ones to try to improve the brain\\'s functions. She apparently \"miscarried\" a daughter in the third trimester: Terry imagined her, Jane, as a \"special\" daughter with \"abilities\", matching 011, revealing that she was captured by Brenner, who faked her death, as Terry\\'s sister completely disbelievesLucas, on his bike, arrives at the fenced area of the Hawkins Laboratory. He looks at it in disgust, and takes his bike to the left for open space. Meanwhile (again, really?), Nancy and Jonathan stock up on weapons and traps at the army surplus store. The cashier asks, \"What you kids doin\\' with all this?\" Nancy replies, \"Monster hunting\", to the cashier\\'s disbelief. Jonathan and Nancy load the supplies into Jonathan\\'s car, as they talk towards one another. Suddenly, a car walks by with a man saying, \"Can\\'t wait to see your movie.\" The duo then run to a local movie theater, with the worlds half written/half spray-painted: \"ALL THE RIGHT MOVIES STARRING NANCY THE SLUT WHEELER\". This causes Nancy\\'s reputation to decline drastically, as both adults and teens start looking at her weird and denouncing her.Nancy then finds the culprits: Steve and the gang, with Tommy spray painting all of the words. Nancy slaps Steve as the friends jeer at her with the fact that they\\'re toxic, so that\\'s why. Jonathan then shows up, with the Steve gang denouncing him and his family while jeering at his actions for seconds, when instantly Johnathan whirls around, grabs Steve, and decks a two-pound iron to the face making Steve fall back. He then grabs Jonathan and knocks him to the ground as they then start fighting, with Steve\\'s friends telling him to stop, but Jonathan then gains the upper hand, decking his face repeatedly into submission. The cops then try to get him, but he punches one instinctively, leading him to be arrested, but with Nancy\\'s reputation dealt a hard blow.Hopper and Joyce then leave as Joyce looks at Terry one last time. As they get into the car, Hopper reassures Joyce that they will find Will, self-checking and knowing themselves that 011 is actually Jane Ives, Terry\\'s long-lost daughter whom they thought was dead. Hopper is then called by the police to go to the Department and sort out Jonathan. Nancy is offered to leave by one of the staff, but she is also called out by her for her \"actions\" and decides to stay with Jonathan to console him.El, with the Eggos waffles, eats in the woods while Mike and Dustin call out for her. Just then, they spot Troy with a knife, and the duo then bolt for it with Troy right behind. Meanwhile, Lucas then finds the compass needle pointed in a general direction of a tree, climbing up it and using binoculars to spot the gate, but finds three men entering and an armed vehicle, as well as handyman vehicles that say \"Hawkins Power and Light\", which Lucas saw with one agent earlier. At the same time, Mike and Dustin run up a cliff just above the quarry. While trying to defend, Dustin is held captive by Troy, threatening Mike that he will cut out Dustin\\'s teeth with his knife unless he jumps off the cliff into the quarry, which would almost certainly be fatal for him. Mike, under pressure from Troy, jumps off but he is levitated back onto the cliff by El, who pushes away Troy\\'s accomplice and breaks Troy\\'s right arm before they leave. She then collapses.El remembers being in astral projection when she finds the monster eating on something. She silently walks up towards it, and touches it one time. It then turns around towards her, scaring her to the point that she uses her powers accidentally to open up the gate. Waking up, she sees Mike and admits that she opened the gate, tearfully admitting that she\\'s \"the monster\". Mike, however, tells her that she saved him and that it\\'s what really matters Mike, Dustin, and El all then do a group hug.Mike and Dustin then grab their bikes along with El as they go home. An agent, disguised as a handyman in a truck, then tells the Laboratory that they are heading home. Agents then quickly load up, as Brenner and his group of agents, all armed, leave into a handyman car. Lucas, still on the tree, realizes that the agents are going to Mike\\'s home, just as Mike, Dustin, and El arrive.Mike removes the makeup from El, answering from her question, that she is still \"pretty\". He then also says that he\\'s happy that El is home, to which she also contemplates the same thing. They are about to - apparently - kiss, but Dustin interrupts saying that \"it\\'s Lucas. I think he\\'s in trouble.\" They tune Mike\\'s comm radio albeit being out of range by a long shot, to which he says that \"they know about Eleven\" and that \"the bad men are coming\", while biking down a street to warn them. While most of the transcription is befuddled, they understand \"bad men\" and check outside, telling Karen that they are leaving, and the trio depart with their bikes just as Brenner spots them.Dustin, through his comm radio, transmits to Lucas and tells him that they\\'re being followed, with Lucas telling them to meet him at Elm and Cherry. They run through houses and lawns as the soon intercept with Lucas, but with Brenner\\'s men on their trail. A van then intercepts in front of them, driving up the road to stop them, but El causes the van to be hit by telekinetic force, flipping it upside down and giving them time to escape, while Brenner and his team are blocked. The quadrio then arrive at the junkyard spot, with Lucas forgiving El as she forgives him as well, and then shaking Mike\\'s hand finally.Hopper and Joyce then arrive at the Police Department, with them being initially confused as they both demand for him to be let go, but they see the army supplies in his car which causes Hopper to be distrustful towards him, telling them that they won\\'t believe him. Karen and her husband is then visited by Agent Frazer, disguised as a police officer, as they check through their stuff. Karen is then told that Mike had been hiding 011, but then are assured by Brenner himself as she unknowingly gives them their hideout location.Lucas then lays out the building perspective, with them implying that the gate should be in there somewhere and that the building is government-sanctioned to build weapons to fight against the Cold War in 1983. Dustin then spots a helicopter in their direction, with the quadrio hiding their bikes and then hiding in a nonfunctional bus. At the police department, Jonathan gives information and the picture of the monster, but Joyce is angry at him because of it as they then reconcile. Hopper, however, hears a very silly fight between Troy\\'s mother and a deputy. He then learns from Troy about 011, basing it from mostly non-relevant and biased information.Steve, on his car with a gnarly scar on his face, is then handed store-bought pills from Tommy. When he hears bad gossip about Nancy and Jonathan, he suddenly has a change of heart and confronts Carol and Tommy before he leaves in his car, from his now-toxic friends.Hopper and Joyce then get Nancy and Jonathan to help find Mike, Dustin, and Lucas, as well as El. They then gather information about the monster and the kids, before they acquire a comm radio at Jonathan\\'s home. Dustin, Mike, and Lucas discuss to one another if they are actually caught up with the bad guys or not, before Mike reluctantly answers. They then give them the current pinpoint of their location.Steve, with his now set of ways, goes to the theater where they defaced the sign and asks to help. The owner reluctantly allows him to help, not before realizing that he is one of the people who were convicted in the crime. Karen and her husband discuss trying to find Mike, despite Frazer\\'s command to stay. Dustin, still in the bus with the other three, says that he doesn\\'t have a good feeling, when they see two cars pull up with three agents, armed. They then hide and stay still, but one notices the bikes under the bus and slowly opens the door, to which he is knocked out by the Chief, who tells them to go.Joyce, Jonathan, and Karen are at the Byers\\' residence when Hopper returns Lucas, Dustin, Mike, and El to the house. Mike then tells them the theory of the flea and the acrobat, at which point that he concludes about the gate, that it interferes with the Earth\\'s electromagnetic field and compasses. Joyce and Nancy both ask Eleven to find Will and Barbara in the Upside-Down, but she can\\'t find them, as the comm radio they are using is too small to track them. When all three of them ask how to find another way, she immediately sees the bathtub in the bathroom while in there, and tells them the bath.Dustin then calls Mr. Clarke regarding information on sensory-deprivation tanks, and lists the materials they need from both him and El. Hopper and Jonathan get deicing salt from Hawkins Middle School, Dustin and Lucas set up the kiddie pool that Joyce used for bobbing for apples, and Mike and Nancy get hoses from a nearby shed while Joyce duct tapes the visor on a set of goggles for Eleven. Mike fills up the pool with lukewarm water, Lucas sets the temperature for lukewarm, Jonathan and Hopper then dump the deicing salt, and Duncan tests the density of the water with eggs. El is then placed in with the goggles, where the light flickers off as she astral projects again. She finds Barbara lying on the ground, as she slowly walks up to her. She finds her dead corpse, partially eaten, decaying, and with a slug-like creature in her mouth. Nancy asks if Barbara is OK, El yells, \"Gone!\" numerous times, scared. She finds Castle Byers in the Upside Down as well, finding Will cold and frightened on the bed. She transcripts from Joyce to Will that they are going to you and to hold on. Will then disappears from the astral region, to El\\'s whimpering as she wakes up from the bath, crying and scared.Hopper is then given information about Castle Byers from Joyce and Jonathan, and prepares to leave. Joyce, worried about Will and his welfare and state being, goes along as well despite Hopper\\'s well-being. Jonathan, however, is told not to by Hopper as well as Joyce, but both him and Nancy decide to sneak out of the building to get the supplies from the station, from which he agrees. They go to the police station and steal the army supplies, as well as a fire extinguisher.Hopper and Joyce cut the fence on the way in. They trespass in order to find the entrance but they are caught by security guards outside, as they surrender and are handcuffed. In the Upside Down, Will is singing to himself \"Should I Stay or Should I Go?\" quietly as he shivers in Castle Byers. The monster then growls, as Will sits upright, scared, as it approaches the fort. It then destroys it, carrying off Will to an unknown place.In the Laboratory, Joyce is handcuffed to a chair parallel to another chair on a metal table, in an interrogation-like room. She screams to be let out, as Brenner arrives and interrogates Joyce as to the location of El and being in contact with Will, despite having tried to kill his friends and so. Joyce angrily refuses, due to the actions of capturing 011 for his own, faking Will\\'s death, and leaving him in the Upside Down instead of reaching out to him. Hopper, however, is tasered repeatedly into leaking out his knowledge of the Laboratory, led by Agent Connie Frazer. He reveals that about the experiments, objectives, their killing of Benny Hammond - the restaurant owner that 011 went to , faking of Will\\'s death, and their snuffing up of tracks. He then negotiates a deal to let him and Joyce go, to get the supplies needed, and to find Will and to bury the hatchet soon after.Meanwhile, at the gym, Dustin, Mike, Lucas, and El wait patiently in the gym with El wrapped in a towel. Mike then goes out the door to look for Nancy and Jonathan, finding Jonathan\\'s car gone. He then tells the trio, in which El reveals that they are going to fight the monster. At the Byers\\' residence, Nancy and Jonathan extensively set up a crude trap layout, laying down gasoline, bear traps, and a yo-yo to indicate the monster is trapped. Nancy loads the revolver, and Jonathan hammers long nails into a baseball bat.Brenner then arrives at the room where Hopper is being held in, offering a cigarette and a lighter to which Hopper takes. He then asks for Brenner\\'s word that they will remain neutral and to not target Mike, Dustin, and Lucas, to which Brenner accepts. Hopper then reveals the deal to Joyce, in which both put on Hazmat suits for protection against the Upside Down\\'s atmosphere, grab flashlights, and enter the Upside Down. Brenner, in actuality betraying Hopper due to the high possibility that they will die, goes armed and rides towards Hawkins Middle School.Now in the Upside Down, Hopper tells Joyce to breath deeply in and out. During this, he remembers seeing Sarah, by playing with her in the park happily with his wife along. She then breathes heavily, in which a frightened wife watches while Hopper tells her to breathe in and out. He then snaps out and asks Joyce if she is okay, to which she says, \"Yeah.\" Back at the house, Jonathan and Nancy cut their hands with kitchen knives to attract the monster, with both reviewing the plan: Straight into Will\\'s room, and to not move until the monster steps in the trap, at which Jonathan will immolate it with a lighter.At the gym, Mike wonders what will happen, at which Lucas and Dustin agree to stay in the gym to protect El. Dustin then goes to the cafeteria kitchen to find chocolate pudding, accusing the lunch-lady of actually hoarding it for herself, to the rest of the group\\'s worries.Nancy and Jonathan, with their hands bandaged, comfort each other while they wait for the monster to arrive. Unexpectedly, Steve knocks at the door, to which Nancy opens it and tries to close him out by telling him that there is danger, but he enters forcibly after seeing Nancy\\'s bandaged hand. Confused by the traps set up, Jonathan tells him to leave but Nancy grabs the revolver and aims at Steve in order for him to get out. Just then, the Christmas lights blink, as the monster arrives through the ceiling wallpaper, scaring Steve out of his mind. Barricading themselves into Will\\'s room, Jonathan holds the lighter while the monster passes. However, the electricity jolts stably, with the monster nowhere to be found.Hopper and Joyce, now in the Upside Down version of the Hawkins forest, find a broken egg. They then come across Castle Byers, now destroyed by the monster. Looking at a stuffed tiger, he hearkens back to when Sarah, now in the hospital bald - cancer, was reading alongside with Hopper a book with the same exact stuffed tiger, then shown crying on a stairway. Hearing Joyce\\'s voice, he snaps out of the memory.At the Byers\\' house, the trio look for the monster. Steve, frightened, tries to call someone but Nancy grabs the phone out of his hand and says that the monster will return, and to leave now. He then bolts out the front door, fumbling his keys in order to get in the car, but sees the lights pulsating. He then looks at it sternly. In the living room, the lights go out before the monster pins Jonathan down. Just then, Nancy shoots the monster to no effect, but it directs its attention to Nancy. It then stomps toward her, but Steve interferes, grabbing the baseball bat and knocking and hitting it to the bear trap. Jonathan then lights the trail of gasoline, lighting the monster on fire. In the Upside Down, Hopper and Joyce hear the monster\\'s screams and follow it. Jonathan then extinguishes the fire, but finding the monster not there again, believing it to be dead. In the real world, the Christmas lights pinpoint the location of Joyce and Hopper, as Jonathan realizes. He calls out to Joyce, and she calls back, being able to hear him. She then leaves. The trio then walk outside and see a streetlight blinking. Nancy, relating it to the monster, asks where its going. Jonathan replies that its not the monster.Dustin and Lucas find the cached pudding for El, confirming that lunch-lady was hoarding it for herself. During their alone time, Mike and El contemplate on having her as an adoptive family member. Mike says that she will be well-fed and cared after, and can live with him after. With El asking to not lie, Mike then says that they could go to the Snow Ball, a dance at the middle school for winter, and that you go with someone that you like more than a friedn. Explaining this, he then kisses her for 2 seconds then pulls back, both amazed. Mike then goes outside, believing that its Nancy and Jonathan, but he sees the agents parking in the school and looking for them. He tells the rest of the group, and they escape.While in the school hallway, Frazer\\'s group of agents surround them. El, protecting the rest, proceeds to use telekinesis to squish their brains, as they bleed from their eyes, into a pulp. She then stops, which kills all of them, but weakens her grandiosely. She collapses into the ground, unconscious. The group tries to wake her up.Hopper and Joyce then walk through the Upside Down\\'s Hawkins. As they walk through, they find a building with massive amounts of black roots: The monster\\'s nest. They go inside, aware of the surroundings.Still trying to wake her up, Brenner encounters them and has the agents restrain Dustin, Lucas, and Mike. He then sits near El and picks her up, being unable to move but talk. He then tells her that he can take her home to the Laboratory, where they can make her better and that no casualties happen. El, realizing the usage of her and the agents, finds him bad. Just then, Mike notices a large amount of blood on the floor from Frazer\\'s agents, realizing that it can detect blood, as it enters through the wall. The agents them let go off the trio, as they take El to a classroom. Leaving the agents behind, the monster then jumps on top of Brenner, killing him and the agents.In the Upside Down, Hopper and Joyce find the nest and look through it to find Will. While searching through the bodies, they find some eaten and some alive but drained of life. Joyce, looking for Will, finds him with a large, alive tube in his throat. Joyce and Hopper takes out the slug-like creature, with him shooting it with his gun.Dustin, MIke, and Lucas, now in a classroom, take El to a desk where she can heal. Mike consoles her by reminding her of the life she can have once it is all over, as she asks, \"Promise?\". Mike promises. Just then, the monster kills the rest of the agents, and breaks into the classroom. Lucas arms himself with a slingshot, shooting projectiles at it to no effect. The fourth time he shoots, however, seemingly knocks it to the chalkboard. They then see El walking toward it, being the one restraining it there. Mike asks her to stop, but she pushes him back with telekinesis. Ignoring her ongoing nosebleed, she says, \"Goodbye, Mike\" as she proceeds to seemingly kill the monster, causing an amount of force that transforms it into small particles and it disappears. Along with El. The electricity then jolts back. Mike then yells for El, with others yelling for her as well, but she doesn\\'t appear.Putting Will on the ground, Hopper asks Joyce to lift his chin, pinch his nostrils and breathe into his mouth twice at his command, while he does chest compression, performing CPR altogether. During this, Hopper remembers being in Sarah\\'s hospital room, seeing doctors perform CPR on her as the EKG monitor flatlines, embracing his wife as he is distraught. Hopper then repeatedly punches Will\\'s chest. This causes him to wake up, with Joyce encouraging him to breathe in and out, with Hopper putting on an oxygen mask for Will, as Joyce tearfully hugs him. Karen and her husband then find Mike, as Karen embraces him.In the hospital, Will is sleeping until he wakes up and sees Jonathan and Joyce. He asks where he is, Jonathan tells him that he is safe now. Consoling him, Jonathan and Joyce catch up a little bit with him, and bring him some supplies, such as a mixtape. In the waiting room, Mike waits while Lucas and Dustin sleep when Jonathan signals him to go. He wakes up Dustin and Lucas, as they tenderly embrace him. They tell him the whole history of what happened since he went missing, including 011. Nancy then leaves, as Jonathan looks back then forward. Hopper then leaves smoking a cigarette, but not before entering a car with men in black suits, as they drive away.One month later, on Christmas Eve, Will plays Dungeons & Dragons with the duo. He then comes across a Thessalhydra, but rolls a 14 and successfully casts a Fireball, with painfully kills the Thessalhydra. They cheer and celebrate the action, but quickly quarrel when the campaign is over, which takes 10 hours but presents a lot of plot holes. Jonathan then comes to take Will home, and he does, saying goodbye to his friends. Nancy, before Jonathan\\'s exit, gives him a gift before he leaves and kisses him on the cheek. Will then opens it to reveal a new camera for Jonathan, as they drive home. Nancy then cuddles with Steve, who asks if she gave it to him, implying that Steve bought the camera as a \"Sorry\" gift. She says yes.At the police station, a Christmas party is there, as Hopper arrives to grab Eggos waffles out of the refrigerator, to which two deputies exclaim it, as the assistant Flo puts out his cigarette and says Merry Christmas to him, to which he replies the same. He then leaves the station, driving to an unlocked safe box and putting the waffles on a plate inside, closing it. It is a remembrance gift for 011, since she is either presumed dead or in an unknown place. Hopper then leaves.Jonathan and Will then arrive at home, with Joyce making Christmas dinner. Jonathan takes pictures with his new camera, \"documenting\" the pictures. Will says, after observing the wrapped gift offscreen, that it is an Atari console because of Dustin\\'s being the exact weight. Joyce then says that we shall see. Will then excuses himself to wash his hands in the bathroom.In the bathroom, though, he feels sick and coughs up a small slug-like creature in his throat that goes down the sink. He then looks wearily into the bathroom mirror, turning on the faucet as the room all around him then starts to look as the Upside Down for a minute, before switching to reality. He looks in the bathroom mirror and turns the faucet off, slowly. There is then a small growling heard.At the dinner table, Will returns very weirdly into his chair. Joyce asks if he is okay, to which he responds, \"Yeah, I\\'m okay.\" The family then commence dinner, as they talk about Dungeons & Dragons as the camera pulls back into a wide angle from a house window, as it snows outside. The TV logo then shows itself one last time as it fades.'"
      ]
     },
     "execution_count": 25,
     "metadata": {},
     "output_type": "execute_result"
    }
   ],
   "source": [
    "df.loc[df.synopsis_length == max(df.synopsis_length), [\"Synopsis\"]].values[0][0]"
   ]
  },
  {
   "cell_type": "code",
   "execution_count": 26,
   "metadata": {},
   "outputs": [
    {
     "name": "stdout",
     "output_type": "stream",
     "text": [
      "Input IDs length: 22\n",
      "Input chunk lengths: [512, 512, 512, 512, 512, 512, 512, 512, 512, 512, 512, 512, 512, 512, 512, 512, 512, 512, 512, 512, 512, 176]\n",
      "Chunk mapping: [0, 0, 0, 0, 0, 0, 0, 0, 0, 0, 0, 0, 0, 0, 0, 0, 0, 0, 0, 0, 0, 0]\n"
     ]
    }
   ],
   "source": [
    "from transformers import AutoTokenizer\n",
    "\n",
    "# Tokenize text and truncate sequences\n",
    "tokenizer = AutoTokenizer.from_pretrained(\"distilbert-base-uncased\")\n",
    "\n",
    "# return_overflowing_tokens option to tokenize the whole input and split it into several chunks\n",
    "outputs = tokenizer(\n",
    "    df.loc[df.synopsis_length == max(df.synopsis_length), [\"Synopsis\"]].values[0][0],\n",
    "    truncation=True,\n",
    "    max_length=512,\n",
    "    return_overflowing_tokens=True,\n",
    "    return_length=True,\n",
    ")\n",
    "\n",
    "print(f\"Input IDs length: {len(outputs['input_ids'])}\")\n",
    "print(f\"Input chunk lengths: {(outputs['length'])}\")\n",
    "print(f\"Chunk mapping: {outputs['overflow_to_sample_mapping']}\")"
   ]
  },
  {
   "cell_type": "code",
   "execution_count": 88,
   "metadata": {},
   "outputs": [],
   "source": [
    "unseen = df.sample(10)\n",
    "df = df.loc[~df.index.isin(unseen.index), :]"
   ]
  },
  {
   "cell_type": "code",
   "execution_count": 95,
   "metadata": {},
   "outputs": [
    {
     "name": "stdout",
     "output_type": "stream",
     "text": [
      "Unseen by the model for you to test:\n",
      " 679               Revenge of the Ninja\n",
      "1070                              Ring\n",
      "568                           The Blob\n",
      "790                   Midnight Madness\n",
      "882                            Admiral\n",
      "801                        Bob Roberts\n",
      "756              Rock Around the Clock\n",
      "1373                        It's Alive\n",
      "567                         Shark Tale\n",
      "1437    All Quiet on the Western Front\n",
      "Name: Title, dtype: object\n"
     ]
    }
   ],
   "source": [
    "print(f\"Unseen by the model for you to test:\\n {unseen['Title']}\")"
   ]
  },
  {
   "cell_type": "code",
   "execution_count": 89,
   "metadata": {},
   "outputs": [
    {
     "data": {
      "text/html": [
       "<div>\n",
       "<style scoped>\n",
       "    .dataframe tbody tr th:only-of-type {\n",
       "        vertical-align: middle;\n",
       "    }\n",
       "\n",
       "    .dataframe tbody tr th {\n",
       "        vertical-align: top;\n",
       "    }\n",
       "\n",
       "    .dataframe thead th {\n",
       "        text-align: right;\n",
       "    }\n",
       "</style>\n",
       "<table border=\"1\" class=\"dataframe\">\n",
       "  <thead>\n",
       "    <tr style=\"text-align: right;\">\n",
       "      <th></th>\n",
       "      <th>Unnamed: 0</th>\n",
       "      <th>Title</th>\n",
       "      <th>Synopsis</th>\n",
       "      <th>Tag</th>\n",
       "    </tr>\n",
       "  </thead>\n",
       "  <tbody>\n",
       "    <tr>\n",
       "      <th>0</th>\n",
       "      <td>0</td>\n",
       "      <td>I tre volti della paura</td>\n",
       "      <td>Note: this synopsis is for the orginal Italian...</td>\n",
       "      <td>cult</td>\n",
       "    </tr>\n",
       "    <tr>\n",
       "      <th>1</th>\n",
       "      <td>1</td>\n",
       "      <td>Mitt liv som hund</td>\n",
       "      <td>The action takes place in the years 1958-1959 ...</td>\n",
       "      <td>cult</td>\n",
       "    </tr>\n",
       "    <tr>\n",
       "      <th>2</th>\n",
       "      <td>2</td>\n",
       "      <td>The Brood</td>\n",
       "      <td>At the Somafree Institute, Dr. Hal Raglan humi...</td>\n",
       "      <td>cult</td>\n",
       "    </tr>\n",
       "    <tr>\n",
       "      <th>3</th>\n",
       "      <td>3</td>\n",
       "      <td>The Haunted</td>\n",
       "      <td>This creepy and scary story centers around The...</td>\n",
       "      <td>paranormal</td>\n",
       "    </tr>\n",
       "    <tr>\n",
       "      <th>4</th>\n",
       "      <td>4</td>\n",
       "      <td>The Frozen Ground</td>\n",
       "      <td>The film opens in an Anchorage motel room in 1...</td>\n",
       "      <td>dramatic</td>\n",
       "    </tr>\n",
       "    <tr>\n",
       "      <th>...</th>\n",
       "      <td>...</td>\n",
       "      <td>...</td>\n",
       "      <td>...</td>\n",
       "      <td>...</td>\n",
       "    </tr>\n",
       "    <tr>\n",
       "      <th>1561</th>\n",
       "      <td>1561</td>\n",
       "      <td>Chuck &amp; Buck</td>\n",
       "      <td>Buck O'Brien (Mike White) is a 27-year-old ama...</td>\n",
       "      <td>cult</td>\n",
       "    </tr>\n",
       "    <tr>\n",
       "      <th>1562</th>\n",
       "      <td>1562</td>\n",
       "      <td>The Manster</td>\n",
       "      <td>American foreign news correspondent Larry Stan...</td>\n",
       "      <td>cult</td>\n",
       "    </tr>\n",
       "    <tr>\n",
       "      <th>1563</th>\n",
       "      <td>1563</td>\n",
       "      <td>Le grand bleu</td>\n",
       "      <td>Two children, Jacques Mayol (Jean-Marc Barr) a...</td>\n",
       "      <td>cult</td>\n",
       "    </tr>\n",
       "    <tr>\n",
       "      <th>1564</th>\n",
       "      <td>1564</td>\n",
       "      <td>You're a Big Boy Now</td>\n",
       "      <td>Bernard Chanticleer (Peter Kastner), called \"B...</td>\n",
       "      <td>cult</td>\n",
       "    </tr>\n",
       "    <tr>\n",
       "      <th>1565</th>\n",
       "      <td>1565</td>\n",
       "      <td>Petey Wheatstraw</td>\n",
       "      <td>Petey Wheatstraw (Rudy Ray Moore) is born duri...</td>\n",
       "      <td>paranormal</td>\n",
       "    </tr>\n",
       "  </tbody>\n",
       "</table>\n",
       "<p>1556 rows × 4 columns</p>\n",
       "</div>"
      ],
      "text/plain": [
       "      Unnamed: 0                    Title  \\\n",
       "0              0  I tre volti della paura   \n",
       "1              1        Mitt liv som hund   \n",
       "2              2                The Brood   \n",
       "3              3              The Haunted   \n",
       "4              4        The Frozen Ground   \n",
       "...          ...                      ...   \n",
       "1561        1561             Chuck & Buck   \n",
       "1562        1562              The Manster   \n",
       "1563        1563            Le grand bleu   \n",
       "1564        1564     You're a Big Boy Now   \n",
       "1565        1565         Petey Wheatstraw   \n",
       "\n",
       "                                               Synopsis         Tag  \n",
       "0     Note: this synopsis is for the orginal Italian...        cult  \n",
       "1     The action takes place in the years 1958-1959 ...        cult  \n",
       "2     At the Somafree Institute, Dr. Hal Raglan humi...        cult  \n",
       "3     This creepy and scary story centers around The...  paranormal  \n",
       "4     The film opens in an Anchorage motel room in 1...    dramatic  \n",
       "...                                                 ...         ...  \n",
       "1561  Buck O'Brien (Mike White) is a 27-year-old ama...        cult  \n",
       "1562  American foreign news correspondent Larry Stan...        cult  \n",
       "1563  Two children, Jacques Mayol (Jean-Marc Barr) a...        cult  \n",
       "1564  Bernard Chanticleer (Peter Kastner), called \"B...        cult  \n",
       "1565  Petey Wheatstraw (Rudy Ray Moore) is born duri...  paranormal  \n",
       "\n",
       "[1556 rows x 4 columns]"
      ]
     },
     "execution_count": 89,
     "metadata": {},
     "output_type": "execute_result"
    }
   ],
   "source": [
    "df"
   ]
  },
  {
   "cell_type": "code",
   "execution_count": 3,
   "metadata": {},
   "outputs": [
    {
     "data": {
      "text/plain": [
       "Unnamed: 0                                                    0\n",
       "Title                                   I tre volti della paura\n",
       "Synopsis      Note: this synopsis is for the orginal Italian...\n",
       "Tag                                                        cult\n",
       "Name: 0, dtype: object"
      ]
     },
     "execution_count": 3,
     "metadata": {},
     "output_type": "execute_result"
    }
   ],
   "source": [
    "df.iloc[0]"
   ]
  },
  {
   "cell_type": "code",
   "execution_count": 97,
   "metadata": {},
   "outputs": [
    {
     "name": "stdout",
     "output_type": "stream",
     "text": [
      "3\n"
     ]
    }
   ],
   "source": [
    "n_labels = df['Tag'].unique().shape[0]\n",
    "print(n_labels)"
   ]
  },
  {
   "cell_type": "code",
   "execution_count": 4,
   "metadata": {},
   "outputs": [
    {
     "name": "stdout",
     "output_type": "stream",
     "text": [
      "1553\n"
     ]
    }
   ],
   "source": [
    "# Encode tags\n",
    "encode_tag = {tag: i for i, tag in enumerate(df['Tag'].unique())}\n",
    "\n",
    "# Store instances\n",
    "data = []\n",
    "\n",
    "# process data\n",
    "count_instances = 0\n",
    "for i in range(len(df)):\n",
    "\n",
    "    line = df.iloc[i]\n",
    "    tag = line[\"Tag\"]\n",
    "    text = line[\"Synopsis\"]\n",
    "\n",
    "    if tag and text:\n",
    "        label = encode_tag[tag]\n",
    "        instance = {'label': label, 'text': text}\n",
    "        if instance not in data:\n",
    "            data.append(instance)\n",
    "            count_instances+=1\n",
    "print(count_instances)\n"
   ]
  },
  {
   "cell_type": "code",
   "execution_count": 13,
   "metadata": {},
   "outputs": [],
   "source": [
    "decode_label = {v: k for k,v in encode_tag.items()}"
   ]
  },
  {
   "cell_type": "code",
   "execution_count": 5,
   "metadata": {},
   "outputs": [
    {
     "data": {
      "text/plain": [
       "array([ 845,  873,  173,  499, 1296,  692, 1286,  295,  486, 1262])"
      ]
     },
     "execution_count": 5,
     "metadata": {},
     "output_type": "execute_result"
    }
   ],
   "source": [
    "import numpy as np \n",
    "\n",
    "test = np.random.choice(len(data), 10, replace=False)\n",
    "test"
   ]
  },
  {
   "cell_type": "code",
   "execution_count": 6,
   "metadata": {},
   "outputs": [],
   "source": [
    "train_set = [data[i] for i in range(len(data)) if i not in test]\n",
    "test_set = [data[i] for i in test]"
   ]
  },
  {
   "cell_type": "code",
   "execution_count": 33,
   "metadata": {},
   "outputs": [],
   "source": [
    "from datasets import Dataset, DatasetDict\n",
    "ds = DatasetDict({\n",
    "    'train': Dataset.from_list(train_set)\n",
    "})\n",
    "ds = ds['train'].train_test_split(test_size=0.2)\n"
   ]
  },
  {
   "cell_type": "code",
   "execution_count": 8,
   "metadata": {},
   "outputs": [
    {
     "data": {
      "text/plain": [
       "DatasetDict({\n",
       "    train: Dataset({\n",
       "        features: ['label', 'text'],\n",
       "        num_rows: 1234\n",
       "    })\n",
       "    test: Dataset({\n",
       "        features: ['label', 'text'],\n",
       "        num_rows: 309\n",
       "    })\n",
       "})"
      ]
     },
     "execution_count": 8,
     "metadata": {},
     "output_type": "execute_result"
    }
   ],
   "source": [
    "ds"
   ]
  },
  {
   "cell_type": "code",
   "execution_count": 72,
   "metadata": {},
   "outputs": [
    {
     "data": {
      "application/vnd.jupyter.widget-view+json": {
       "model_id": "3dfa734665964f51ac0061b40d260e86",
       "version_major": 2,
       "version_minor": 0
      },
      "text/plain": [
       "Map:   0%|          | 0/1234 [00:00<?, ? examples/s]"
      ]
     },
     "metadata": {},
     "output_type": "display_data"
    },
    {
     "data": {
      "application/vnd.jupyter.widget-view+json": {
       "model_id": "cef8b488cfb141fdb224e968ecad1c5d",
       "version_major": 2,
       "version_minor": 0
      },
      "text/plain": [
       "Map:   0%|          | 0/309 [00:00<?, ? examples/s]"
      ]
     },
     "metadata": {},
     "output_type": "display_data"
    }
   ],
   "source": [
    "from transformers import AutoTokenizer\n",
    "\n",
    "# Tokenize text and truncate sequences\n",
    "tokenizer = AutoTokenizer.from_pretrained(\"distilbert-base-uncased\")\n",
    "def preprocess_function(examples):\n",
    "    return tokenizer(examples[\"text\"], \n",
    "                    truncation=True,\n",
    "                    padding=True, \n",
    "                    max_length=512, \n",
    "                    add_special_tokens = True)\n",
    "\n",
    "tokenized_ds = ds.map(preprocess_function, batched=True)"
   ]
  },
  {
   "cell_type": "code",
   "execution_count": 73,
   "metadata": {},
   "outputs": [
    {
     "name": "stdout",
     "output_type": "stream",
     "text": [
      "Input IDs length: 6\n",
      "Input chunk lengths: [512, 120, 512, 512, 512, 23]\n",
      "Chunk mapping: [0, 0, 1, 1, 1, 1]\n"
     ]
    }
   ],
   "source": [
    "# return_overflowing_tokens option to tokenize the whole input and split it into several chunks\n",
    "outputs = tokenizer(\n",
    "    ds[\"train\"][:2][\"text\"],\n",
    "    truncation=True,\n",
    "    max_length=512,\n",
    "    return_overflowing_tokens=True,\n",
    "    return_length=True,\n",
    ")\n",
    "\n",
    "print(f\"Input IDs length: {len(outputs['input_ids'])}\")\n",
    "print(f\"Input chunk lengths: {(outputs['length'])}\")\n",
    "print(f\"Chunk mapping: {outputs['overflow_to_sample_mapping']}\")"
   ]
  },
  {
   "cell_type": "code",
   "execution_count": 74,
   "metadata": {},
   "outputs": [],
   "source": [
    "TOKENIZERS_PARALLELISM = True\n",
    "from transformers import DataCollatorWithPadding\n",
    "\n",
    "# Dynamically pad the sentences to the longest length in a batch during collation\n",
    "data_collator = DataCollatorWithPadding(tokenizer=tokenizer)"
   ]
  },
  {
   "cell_type": "code",
   "execution_count": 75,
   "metadata": {},
   "outputs": [],
   "source": [
    "import evaluate\n",
    "accuracy = evaluate.load(\"accuracy\")\n",
    "\n",
    "# Compute accuracy\n",
    "def compute_metrics(eval_pred):\n",
    "\n",
    "    predictions, labels = eval_pred\n",
    "    predictions = np.argmax(predictions, axis=1)\n",
    "    return accuracy.compute(predictions=predictions, references=labels)"
   ]
  },
  {
   "cell_type": "code",
   "execution_count": 76,
   "metadata": {},
   "outputs": [
    {
     "name": "stderr",
     "output_type": "stream",
     "text": [
      "Some weights of DistilBertForSequenceClassification were not initialized from the model checkpoint at distilbert-base-uncased and are newly initialized: ['pre_classifier.bias', 'pre_classifier.weight', 'classifier.weight', 'classifier.bias']\n",
      "You should probably TRAIN this model on a down-stream task to be able to use it for predictions and inference.\n"
     ]
    }
   ],
   "source": [
    "from transformers import AutoModelForSequenceClassification, TrainingArguments, Trainer\n",
    "\n",
    "model = AutoModelForSequenceClassification.from_pretrained(\n",
    "    \"distilbert-base-uncased\", num_labels=n_labels, id2label=decode_label, label2id=encode_tag\n",
    ")"
   ]
  },
  {
   "cell_type": "code",
   "execution_count": 77,
   "metadata": {},
   "outputs": [
    {
     "data": {
      "application/vnd.jupyter.widget-view+json": {
       "model_id": "14e877f7cdba481b9831b0e1062f7e48",
       "version_major": 2,
       "version_minor": 0
      },
      "text/plain": [
       "  0%|          | 0/78 [00:00<?, ?it/s]"
      ]
     },
     "metadata": {},
     "output_type": "display_data"
    },
    {
     "name": "stderr",
     "output_type": "stream",
     "text": [
      "You're using a DistilBertTokenizerFast tokenizer. Please note that with a fast tokenizer, using the `__call__` method is faster than using a method to encode the text followed by a call to the `pad` method to get a padded encoding.\n"
     ]
    },
    {
     "data": {
      "application/vnd.jupyter.widget-view+json": {
       "model_id": "958a509db1b34314bec801d82c4b2514",
       "version_major": 2,
       "version_minor": 0
      },
      "text/plain": [
       "  0%|          | 0/20 [00:00<?, ?it/s]"
      ]
     },
     "metadata": {},
     "output_type": "display_data"
    },
    {
     "name": "stdout",
     "output_type": "stream",
     "text": [
      "{'eval_loss': 0.9105373024940491, 'eval_accuracy': 0.6213592233009708, 'eval_runtime': 6.7718, 'eval_samples_per_second': 45.631, 'eval_steps_per_second': 2.953, 'epoch': 1.0}\n",
      "{'train_runtime': 101.4515, 'train_samples_per_second': 12.163, 'train_steps_per_second': 0.769, 'train_loss': 0.8444587511894031, 'epoch': 1.0}\n"
     ]
    },
    {
     "data": {
      "text/plain": [
       "TrainOutput(global_step=78, training_loss=0.8444587511894031, metrics={'train_runtime': 101.4515, 'train_samples_per_second': 12.163, 'train_steps_per_second': 0.769, 'train_loss': 0.8444587511894031, 'epoch': 1.0})"
      ]
     },
     "execution_count": 77,
     "metadata": {},
     "output_type": "execute_result"
    }
   ],
   "source": [
    "training_args = TrainingArguments(\n",
    "    output_dir=\"models/bert_film_classifier\",\n",
    "    learning_rate=2e-5,\n",
    "    per_device_train_batch_size=16,\n",
    "    per_device_eval_batch_size=16,\n",
    "    num_train_epochs=1,\n",
    "    weight_decay=0.01,\n",
    "    evaluation_strategy=\"epoch\",\n",
    "    save_strategy=\"epoch\",\n",
    "    load_best_model_at_end=True,\n",
    "    push_to_hub=False,\n",
    "    fp16=False\n",
    ")\n",
    "\n",
    "trainer = Trainer(\n",
    "    model=model,\n",
    "    args=training_args,\n",
    "    train_dataset=tokenized_ds[\"train\"],\n",
    "    eval_dataset=tokenized_ds[\"test\"],\n",
    "    tokenizer=tokenizer,\n",
    "    data_collator=data_collator,\n",
    "    compute_metrics=compute_metrics,\n",
    ")\n",
    "\n",
    "trainer.train()"
   ]
  },
  {
   "cell_type": "code",
   "execution_count": 78,
   "metadata": {},
   "outputs": [],
   "source": [
    "trainer.save_model()"
   ]
  },
  {
   "cell_type": "code",
   "execution_count": 79,
   "metadata": {},
   "outputs": [
    {
     "data": {
      "text/plain": [
       "[{'label': 0,\n",
       "  'text': 'The movie is about three childhood friends, Akash Malhotra (Aamir Khan), Sameer Mulchandani (Saif Ali Khan), and Siddharth \"Sid\" Sinha (Akshaye Khanna). Akash does not believe in the concept of love and does not engage in relationships lasting more than two weeks. Sameer is a genial, well-meaning, desperately romantic, but confused guy who is prone to romantic infatuations and believes to have found true love whenever he gets attracted to a girl. Sid, an artist by profession and the most mature of the three, is not interested in trivial romances and is dedicated to his work.\\nAkash, who is a cad in his personal life, proposes to a girl named Shalini (Preity Zinta) in jest, without being aware that she is engaged to Rohit. He also engineers a breakup between Sameer and his then girlfriend Priya (Suchitra Pillai).\\nThe three friends then go to Goa for a vacation. There Sameer falls in love with a foreign lady and while Akash and Sid return, Sameer stays with the lady. However, she turns out to be a cheat and she, along with another man, rob Sameer of his belongings and Sameer is forced to return by lorry. Akash and Sid have a good laugh at his plight.\\nLater, Sameer finds his parents have arranged a meeting with a potential marriage prospect. He resists at first as he does not want an arranged marriage, but the moment he sees the girl, Pooja (Sonali Kulkarni), he realizes that she is \"the one\". Unfortunately, she is in a relationship and Sameer has to be content with just being her friend.\\nSid befriends and eventually falls in love with Tara Jaiswal (Dimple Kapadia), an older divorcee and alcoholic, who has moved into his neighbourhood and shares his love for art. He decides to keep it from her, suppressing all his feelings as he knows that she, like most other people in society, would consider this relationship scandalous. When his family and friends start finding out, everything goes wrong. Sid\\'s mother is horrified and wrongly accuses Tara of having led Sid on. Akash makes fun of Sid\\'s true intentions and then he slaps him which creates a rift in their friendship. Tara hears that Sid has quarreled with friends and family because of her and feeling that she has ruined his life, refuses to see him.\\nMeanwhile, Pooja breaks up with her boyfriend. Sameer and Pooja finally start going out after she breaks up with her boyfriend, and Sameer eventually proposes to her.\\nWhen his parents send him to Sydney, Australia to work for the family business, Akash finds he is coincidentally seated next to Shalini. He apologises for his earlier prank and asks her to show him around the new city. Though Shalini is engaged, she agrees and soon finds herself enjoying his company. She tries to find out how he feels, but he holds back. Eventually, she then leaves for India to marry Rohit. Akash tries to let her go, but then realises that he is unable to. He returns to India and proposes to her on the eve of her wedding. She accepts with her family\\'s blessing.\\nTara has been hospitalized with liver cirrhosis and dies with Sid at her bedside. Sid and Akash finally reconcile. Six months later the three friends go to Goa to rekindle fond memories along with Shalini and Pooja. There, Sid meets a pretty girl (Mandala Tayde), who is also vacationing in Goa . They share a smile, implying that Sid is finally moving on from Tara.'},\n",
       " {'label': 0,\n",
       "  'text': 'Miles Harding is an architect who envisions a brick shaped like a jigsaw puzzle piece that could enable buildings to withstand earthquakes. Seeking a way to get organized, he buys a personal computer to help him develop his ideas. Although he is initially unsure that he will even be able to correctly operate the computer, he later buys numerous extra gadgets that were not necessary for his work, such as switches to control household appliances like the blender, a speech synthesizer, and a microphone. The computer addresses Miles as \"Moles\", because Miles had incorrectly typed his name during the initial set-up. When Miles attempts to download the entire database from a mainframe computer at work, his computer begins to overheat. In a state of panic, Miles uses a nearby bottle of champagne to douse the overheating machine, which then becomes sentient.\\nA love triangle soon develops between Miles, his computer (who later identifies himself as \"Edgar\"), and Miles\\' neighbor, an attractive cellist named Madeline Robistat. Upon hearing her practicing a piece from Notebook for Anna Magdalena Bach on her cello through an air vent connecting both apartments, Edgar promptly elaborates a parallel variation of the piece, leading to an improvised duet. Believing it was Miles who had engaged her in the duet, Madeline begins to fall in love with him in spite of her ongoing relationship with fellow musician Bill.\\nAt Miles\\' request, Edgar composes a piece of music for Madeline. When their mutual love becomes evident, however, Edgar responds with jealousy, canceling Miles\\' credit cards and registering him as an \"armed and dangerous\" criminal. Miles shoves the computer and tries to unplug it, getting an electric shock. Then the computer retaliates by harassing him with household electronics.\\nEventually, Edgar accepts Madeline and Miles\\' love for each other, and appears to commit suicide by sending a large electric current through his acoustic coupler, around the world, and back to himself.\\nUltimately, a pop song, \"Together in Electric Dreams,\" written by Edgar as a tribute to Miles and Madeline, plays on radio stations across California.'},\n",
       " {'label': 0,\n",
       "  'text': 'The McCallister family prepares to spend Christmas with Peter and Frank\\'s brother Rob in Paris, gathering at Peter and Kate\\'s home in a suburb of Chicago the night before their flight. Eight-year-old Kevin, their youngest son, finds himself the subject of ridicule from his siblings and cousins. After getting into an argument with his older brother Buzz, he is sent to the third floor bedroom of the house, where he wishes his family would disappear. During the night, a power outage resets the alarm clocks and causes the family to oversleep. In the confusion and rush to reach the airport on time, Kevin is left behind and the family does not realize it until they are already airborne. Once in Paris, his mother and father desperately try to book a flight home.Meanwhile, Kevin wakes up to find the house empty and is overjoyed to find that his wish came true. He takes Buzz\\'s life savings, practices shooting with Buzz\\'s BB gun, jumps on the bed, watches a gangster film, and eats a large amount of junk food. However, he finds himself scared by the appearance of the Chicago Police Department called by his parents to check on him, his next door neighbor \"Old Man\" Marley, who was rumored to have murdered his family many years earlier, and the appearance of The Wet Bandits, Harry Lyme and Marv Merchants, who are breaking into other vacant houses on the block.On Christmas Eve, Kevin overhears Harry and Marv discussing plans for breaking into his house that night. After conversing with a Santa Claus impersonator and watching a local choir perform in a church, he comes across Marley. The two of them talk, and he learns that Marley is in fact a very nice man and the rumors about him are not true. He tells Kevin he is watching the choir because his granddaughter is in it, and he never gets to see her because he and his son have not spoken in years after a big argument they had. Kevin advises him to reconcile with his son.After leaving the church, Kevin heads home and sets up various booby traps inside the house. Harry and Marv break in. After the two spring every trap in the house, Kevin flees to the second floor of the house and dials 911. They chase him out of the house and he flees to the vacant neighboring home. The Wet Bandits catch him when he runs to the top of the stairs and hang him on a coat hook on the door. Marley has sneaked up behind them and knocks them out with a snow shovel and takes Kevin home. Shortly after, the two burglars are arrested.Kevin wakes up the next morning and is disappointed to see that his family is still gone. He then hears Kate enter the house, calling for him. He goes downstairs and the two of them meet and reconcile. Immediately after, the rest of the McCallisters, having traveled directly from Paris to Chicago, arrive. Kevin keeps silent about his encounter with Harry and Marv, although Peter finds Harry\\'s missing gold tooth and wonders what it is. Kevin and Buzz have a moment of reconciliation. He then goes over to the window and sees Marley greeting his son and his family. As he is hugging his granddaughter, he looks up to see Kevin. He waves at him and Kevin waves back, smiling. He watches as Marley heads inside with his family. However, Buzz interrupts him by calling out, \"Kevin! What did you do to my room?\" He immediately runs there and the film ends.'},\n",
       " {'label': 1,\n",
       "  'text': 'An interview between Dr. Abigail Emily Tyler and Olatunde Osunsanmi (the director) kicks off the movie.Tyler (Milla Jovovich) begins to discuss a hypnotism session performed on her by a colleague, Dr. Abel Campos (Elias Koteas), in an attempt to remember back to the night her husband Will (Julian Vergov) was murdered beside her in their bed and to recollect the face of the murderer. However, she cannot recall the face and the session results in leaving her in tears. Campos tries to convince Tyler to take time off so her head can clear, but she insists that she must continue her husband\\'s studies. After a brief scene with her two children, Ashley (Ashley McKenna-Bruce) - who had gone blind soon after her father\\'s death - and Ronnie (Raphaël Coleman) - who blames his mother for the murder of Will - Tyler begins her studies on the sleep-deprived in Nome, Alaska, the isolated town where she lives. She notes that her patients have all awoken during the night to see a white owl watching them outside their windows for hours at a time.Tyler suggests to one patient, Tommy Fisher (Corey Johnson), that she put him under hypnosis to discover something he couldn\\'t remember from the prior night. Under the hypnosis, Fisher says that he had woken to see the owl at his window yet again. It disappears as his door opens, and he goes into hysterics before Tyler can snap him out of it. Terrified and unwilling to reveal what he had seen opening his door, Fisher leaves. That night, the cops are called to the Fisher household to discover that Fisher is holding his wife Sarah (Tyne Rafaeli) and their two children (Pavel Stefanov and Kiera McMaster) hostage, refusing to discuss the situation with anyone other than Tyler. She arrives, and while she attempts to calm him down, Fisher begins screaming in a language that Tyler cannot understand and demanding that she tell him the meaning of what he is saying. When she can\\'t supply a translation, Fisher shoots his wife, their children, and himself. Sheriff August (Will Patton) interrogates Tyler as to whether or not she believes her hypnosis therapy with Fisher that day was in relation to the shooting. When Tyler doesn\\'t see a connection, August becomes enraged and tells her to cease her studies of sleep deprivation and the hypnosis on her patients. After returning home, Tyler grabs her tape recorder and makes notes over her patients, falling asleep while the recorder is still on.The following morning, Tyler arrives at work. Campos is waiting for her, worried after hearing of the Fisher shootings. She assures him that she is all right, and hands her tape recorder to her secretary, asking her to transcribe it. In her office, Scott Stracinsky (Enzo Cilenti), another of Tyler\\'s patients, and his wife Cindy (Alisha Seaton) are waiting. Stracinsky decides to be hypnotized despite the recent tragedy. During the session, he begins shaking and gagging, and Tyler has a difficult time snapping him out of the hypnosis. When she finally does, he reveals that nonhuman creatures had invaded his room. The couple leaves moments before Tyler\\'s secretary enters and tells Tyler that she cannot transcribe the tape. Curious, Tyler and Campos listen to the tape; moments after Tyler finishes her notes and falls asleep, mechanical noises are heard followed by terrified, heart-stopping screams coming straight from Tyler and a distorted voice speaking in an unknown language. She cannot remember anything that had happened that night and goes into denial, but discovers a bruise-like mark on her shoulder and scratches in the floorboards from her fingernails, as if she\\'d been trying to prevent someone from dragging her out.In her husband\\'s research she finds the name and number of author Dr. Awolowa Odusami (Hakeem Kae-Kazim). Tyler calls the number and asks Odusami if he knew her husband. He claims he didn\\'t, but says that someone using the alias of \"John\" had called him from that number before. They set up a meeting between Tyler, Odusami, and Campos; during this, Odusami listens to the tape and concludes that the language is Sumerian, a dead language. He mentions that in ancient Sumerian artifacts pictures of men in space suits and UFOs were depicted, and that the voice on the tape speaking the language - saying words such as \"destroy\" and \"ruin\" - did not sound human. During the meeting, Stracinsky\\'s wife calls Tyler and begs her to come to their house. She, along with her colleagues, arrives at the house to find Scott in bed, a large bruise on his arm similar to the one on Tyler\\'s shoulder. He wants to be put under hypnosis, because he can\\'t quite remember what happened. Almost immediately after being put under, Stracinsky jerks into an upright position with his head thrown back and his eyes and mouth open wide. He soon begins to levitate off the bed and screams in the Sumerian language. His body is distorted and dropped back onto the bed, seemingly lifeless.Terrified, Tyler hurries to her house and starts packing, intending to flee to North Carolina. Sherriff August comes in; Stracinsky is now paralyzed from the neck down, and August believes that Tyler did it. As he is arresting her, Campos comes in and firmly states that Tyler had nothing to do with the accident. August agrees to leave Tyler at her house under constant surveillance by an officer of his. In the early hours of the morning, the officer spots an object flying over the household and calls August. The police officer also says he saw the three of them entering the starship. When August arrives, he finds a sobbing Tyler in Ashley\\'s room. Tyler claims that a beam of light appeared and took her daughter. August demands Tyler to stop her nonsense, believing that she was the cause behind Ashley\\'s disappearance. Also, he forces Tyler to accept that her late husband wasn\\'t killed by any such stranger as she says she saw: he had committed suicide in front of her. When she wasn\\'t able psychologically to face this fact, her anguished mind lied to herself into believing it was a criminal stranger\\'s fault. This leads August to further believe that Tyler can convince herself of anything. When she continues to insist that it was the work of extraterrestrials, he takes Ronnie, who also believes that his mother was the cause of his sister\\'s kidnapping, out of her custody.Firmly believing that her daughter was abducted, Tyler asks Campos and Odusami to put her under hypnosis to bring her back to the night her tape recorder caught her screaming - which she believes was a recording of her own personal abduction - in an attempt to directly contact the aliens and demand for Ashley back. Campos puts Tyler into a deep sleep, and an inhuman voice speaking through her begins screaming in Sumerian. Tyler begins an almost schizophrenic scene where she and the Sumerian voice speaking through her start arguing. She begs them to bring her daughter back, and yet the voice refuses before it drops Tyler back on the couch. Campos and Odusami try to revitalize her when they themselves start screaming. When the static halts, the camera is now on the floor of an empty room; the three doctors are missing.Osunsanmi asks Tyler what had happened the night of her hypnosis. She tells him that they were abducted, though they were unsure where they had gone or what had been done to them. The interview fades as the film itself continues; Tyler is now in a hospital bed, August and Campos at her bedside. August asks her who killed her husband, and she says all she was aware of was that he was stabbed while they were asleep. Countering her story, August holds up a picture of Will\\'s head with a bullet hole through it alongside a picture of a gun, and tells Tyler that her husband had committed suicide. He asks her yet again where Ashley was, and Tyler swears that her daughter was abducted. She begs Campos to speak up, reminding him that they had gone through the same things. He keeps quiet, and August is forced to remove Ronnie from a worn-down Tyler\\'s custody.Tyler continues to stay true to the story of Ashley\\'s abduction by aliens. As she becomes emotional, Olatunde Osunsanmi (the true director of the film) finally concludes the interview. It is then that the camera zooms out, and the audience is made aware of the fact that Tyler is in a wheelchair, paralyzed. The end credits reveal that no one involved in the real events had wanted to participate in the creation of the film, and that Tyler is under constant surveillance as her health deteriorates day by day ever since her abduction. Her son Ronnie stills blames Dr Tyler for Ashley\\'s disappearance. Ashley has never been found.The end credits rolls with 911 calls reporting sightings of UFOs.'},\n",
       " {'label': 0,\n",
       "  'text': \"After capturing an important Rif prisoner in an undercover operation, Sergeant Mike Kincaid (Lancaster) is imprisoned himself for striking a lieutenant (Stephen Bekassy) who beats a French woman (Mari Blanchard) with his riding crop for preferring Kincaid to him. Kincaid has a longstanding rivalry with the lieutenant, but the lieutenant is now in command of the company holding the city of Tarfa while the regiment is away. As the ranking officer, the lieutenant uses Kincaid's striking of him to get his revenge.\\nKincaid is imprisoned alongside seven military prisoners and the captured Rif who has refused to talk, with the lieutenant refusing food and water to both Kincaid and the Rif. When his two comrades-in-arms who accompanied him on the mission, Corporals Luis Delgado (Gilbert Roland) and Pierre Molier (Kieron Moore), sneak food and water to Kincaid, he shares them with the Rif. To repay Kincaid's kindness and assuage his own guilt for telling the lieutenant about Kincaid's assignation with the Frenchwoman, the tells of an impending attack on Tarfa while the garrison is weak. The Rif believes Kincaid will escape to save himself, but he instead warns the lieutenant.\\nThe experienced Kincaid tells the lieutenant that their only chance is to release him to lead a series of guerrilla hit-and-run attacks to delay the enemy for five days until the regiment returns. The lieutenant agrees, but only if Kincaid will testify that the idea was his. Kincaid agrees to his terms. The only men available for the mission are the seven prisoners, who receive full pardons for their crimes. His two corporals join them, raising their number to ten.\\nWhen scouting an enemy camp, the Legionnaires discover two rival tribes have joined forces, making them strong enough to take the city. Using his expertise in disguise and language, Kincaid finds out that the Rif leader, Khalid Hussein (Gerald Mohr), is marrying Mahla (Jody Lawrance) in order to cement an alliance with the other tribe. Kincaid kidnaps her to force the enemy to chase him for the five days.\\nMahla begins to fall in love with her handsome captor, as Hussein pursues the Legionnaires across the desert. In the midst of the dangers, the patrol find a destroyed Legion truck containing a safe that one of the men opens, revealing a large Legion payroll. When Jardine (John Dehner) tries to get away with the payroll, he is shot, but that tells the Rifs where they are.\\nKincaid is eventually captured and Mahla freed. She demands that Kincaid be released unharmed or she will not marry Hussein. Hussein reluctantly does so. Kincaid and his men infiltrate the wedding ceremony, and fighting breaks out. Mahla's tribe switches sides, and Hussein is killed.\"},\n",
       " {'label': 0,\n",
       "  'text': 'John Wintergreen (Robert Blake) is a motorcycle cop who patrols the rural Arizona highways with his partner Zipper (Billy \"Green\" Bush). Wintergreen is an experienced patrolman looking to be transferred to homicide. When he is informed by Crazy Willie (Elisha Cook, Jr.) of an apparent suicide via shotgun, Wintergreen believes the case is actually a murder. Detective Harve Poole (Mitchell Ryan) agrees it is a homicide, after a .22 bullet is found in the man\\'s skull during the autopsy, as well hearing about a possible missing $5,000 from the man\\'s home, and arranges for Wintergreen to be transferred to homicide to help with the case.\\nWintergreen gets his wish, but his joy is short-lived. He begins increasingly to identify with the hippies whom the other officers, including Detective Poole, are endlessly harassing. The final straw comes when Poole discovers that Wintergreen has been sleeping with his girlfriend Jolene (Jeannine Riley). The hostile workplace politics cause him to be quickly demoted back to traffic enforcement.\\nDespite being demoted, Wintergreen is able to solve the murder. The killer turns out to be Willie, who confesses while Wintergreen goads him into talking about it. Wintergreen surmises Willie did it because he was jealous of the old man he killed, who frequently had young people over to his house to buy drugs. Shortly after, it is discovered that Zipper stole the $5,000, which he used to buy a fully dressed Electra Glide motorcycle. Wintergreen is forced to shoot Zipper after he becomes distressed and belligerent, and shoots at Wintergreen and in the direction of an innocent bystander while brandishing a gun.\\nAs the film ends, Wintergreen is alone and back on his old beat, when he runs into a hippie that Zipper was needlessly harassing near the beginning of the film. Wintergreen lets him off with a warning but the hippie forgets his driver\\'s license, and Wintergreen drives up behind his van to return it to him. The hippie\\'s passenger points a shotgun out the back window and shoots Wintergreen, killing him.'},\n",
       " {'label': 0,\n",
       "  'text': \"Forty years after directing and starring in a slasher movie, entitled The Dark Beneath, centred on a group of friends being killed by a masked killer, Ted Radford (Arthur Roberts) suffers a mental breakdown and is admitted to a psychiatric ward. In an attempt to cure Radford, his doctor (Richard Magarey) shows him the movie, despite the warnings of Dr. Wayne (Michael Swan). When Dr. Wayne arrives at the ward the following morning, he discovers evidence of a mass slaughter, however no bodies are to be found.\\nFive years later, a local theater is showing The Dark Beneath for the first time since the murders. The theater's staff, Bridget (Rebekah Brandes), Rachael (Brea Grant), and Kenny (Shaun Ausmus) welcome a small group of customers, including a biker couple, Harley (Stan Ellsworth) and Babe (Melissa Steach), Dr. Wayne and Detective Barrons (Jon Briddell), who both believe Radford will appear, and Bridget's boyfriend Josh (Daniel Bonjour), who is accompanied by his friend Mario (Greg Cirulnick), Mario's girlfriend Samantha (Mandell Maughan) and their awkward friend Sully (Michael Schwartz). Bridget's younger brother Timmy (Justin Baric) also arrives, but is sent home due to his age. As the movie is about to begin, Josh convinces Bridget to allow Kenny to be in charge so she can watch the movie with him.\\nHowever, after a while Bridget becomes unsettled by the movie and enters the lobby, where it is revealed she was abused by her father as a child. At this time, Kenny enters the basement to retrieve stock, but is attacked by the same killer from the movie, and is ultimately stabbed to death with a large corkscrew. His death is shown to the watchers in the theater, however they continue to believe it is part of the movie. Meanwhile, Josh convinces Bridget to enter the theater once again, while Sully goes to use the restroom. However, while returning he is too attacked and has his heart gored out. Bridget, Josh, Mario and Samantha think of it as an elaborate prank by Sully, but Rachael too is stabbed to death for all to see, prompting everyone to investigate. The Detective reveals himself to the rest of the group, who realise the deaths are real. The group try to get help, but find their phones do not have a signal and the theater's phone is dead. They also discover Timmy, who snuck back in to watch the movie. Suddenly, Radford appears and slashes Dr. Wayne's throat. The Detective shoots Radford, but there is little effect as Dr. Wayne is soon seen being dragged into a basement on the screen.\\nTimmy tells the group he snuck in through the upstairs window, and so the group decide to try and escape. However, while doing so the window slams shut on Samantha's fingers, trapping her and forcing the others to flee. The Detective attempts to save Samantha, however Radford stabs both to death. Regrouping downstairs, the survivours find a police officer outside the front entrance, however Radford makes the group unable to be seen, and the police officer soon leaves. Desperate, the group resort to trying to break the projector, and thus stop the movie. However, the door is locked, and so Timmy enters the ventilation system. He makes it to the room and lets the others in, where Harley breaks the projector just in time to save Josh who is attacked by Radford. The projector quickly repairs itself, and Radford re-appears and chases the group. Harley, Babe and Timmy hide in a closet but the killer breaks through the door and stabs Harley in the stomach with the corkscrew, while the others get away.\\nBridget, Josh and Mario make their way back to the theater where they witness Babe being stabbed to death on the screen. Mario ditches his friends, but is eventually electrocuted to death by Radford. Josh also falls victim to Radford, while Bridget finds Timmy. Together, the pair are sucked into the movie world where Bridget finds herself in a basement. Radford tortures her, until she is able to escape and free Timmy. They are quickly ambushed by the killer in the movies mother, but Timmy stabs him in the back with a sickle and once again they continue their escape, with Radford chasing them. Bridget realises the movie is coming to an end, and so sacrifices herself to remain trapped in the movie world to save Timmy, who enters the real world. The police arrive at the theater to find Timmy the only survivour.\"},\n",
       " {'label': 0,\n",
       "  'text': 'Set in an undeterminate year of the 1940s, Ralphie Parker (Peter Billingsley) is a nine year-old boy living in the small town of Hohman, Indiana. His older self (voice of Jean Shepherd) narrates his experiences and thoughts through the short weeks before Christmas. As he, a few friends, and his younger brother Randy (Ian Petrella) look into the display window of a local store, Ralphie has his eyes set on the only item he wants for Christmas; an Official Red Ryder Carbine-Action Two-Hundred-Shot Range Model Air Rifle, with a compass in the stock and \"this thing which tells time\" (a sundial).Knowing full well that he could never request this item openly to his parents, Ralphie sneaks advertisements for the gun into his parents\\' magazines the next morning. At the breakfast table, he fails to bring up the subject in casual conversation, and with less subtlety than was intended. He then accidentally lets slip his desire to his mother (Melinda Dillon) who immediately rejects the idea with the dreaded phrase: \"you\\'ll shoot your eye out.\"Disappointed, Ralphie enjoys a reverie about how he alone, armed with his gun, stands between his family and a gang of stripe-shirted ruffians in a Western-style standoff. Meanwhile his grouchy father (Darren McGavin) is forced to battle the temperamental house furnace in the basement amid a slur of inaudible curses.While walking through the frozen, snow-covered neighborhood on his way to school, Ralphie meets up his two friends, Flick (Scott Schwartz) and Schwartz (R.D. Robb), while Randy lags behind, heavily bundled under a thick, wool snow jumper that leaves his arms sticking straight out. Before class, Flick and Schwartz argue over what would happen should someone stick their tongue to a frozen flag pole, engaging in a delicate nuance of phrase during which Schwartz dares Flick to stick his tongue to the pole. Upon the dreaded triple-dog-dare, Flick puts his tongue to the pole to find it stuck tight. He starts screaming but the others run into school as the bell rings. Their teacher, Miss Shields (Tedde Moore), notices Flick\\'s absence and, when she sees him outside, calls the fire department and local police and tries to comfort Flick. As the students watch with excitement, Ralphie feels a pang of guilt. Still, when Flick is escorted to his desk, a bandage around his tongue, and Miss Shields gives a brief speech on how whoever put Flick up to sticking his tongue to the pole should atone for their misdeed. But Ralphie explains that kids know better not to get caught. Miss Shields then gives them an assignment; to write a theme about what they want for Christmas. Ralphie sees this as an opportunity to write about the Red Ryder gun, hoping that his teacher will sympathize with him and secure a little reprieve with her authority as an adult.On the way home, Ralphie, Flick, Schwartz, and Randy are confronted by a local bully named Scut Farkus (Zack Ward) and his toadie Grover Dill (Yano Anaya). Poor Schwartz is subjected to a painful hammerlock before they all run away, screaming shrilly, while Randy lags behind unable to keep up wearing his thick winter clothing.Ralphie makes it home and finishes his theme just as his father comes home, shouting excitedly, before being surrounded by the neighbor\\'s dogs. Ralphie watches from his window above and comments how his neighbors, the Bumpuses, owned dozens of bloodhounds that ignored everyone else on earth except for the Old Man. Mr. Parker exclaims that he won a grand prize in a local magazine sweepstakes, showing his wife the telegram that says it will be delivered that night.During dinner that night, Randy displays his typical dissent for food and refuses to eat until his mother playfully asks him how pigs eat. Randy dives into his food face first, laughing hysterically, while Mr. Parker and Ralphie watch with mild disgust. Then, the doorbell rings and everyone immediately stops. They run to the door where Mr. Parker allows the delivery men to wheel in a large box and opens it with fervor to reveal a lamp that\\'s designed to look like a woman\\'s leg, complete with stocking, high heel shoe, and a shade that looks like a skirt. While Mr. Parker gushes over it, Ralphie\\'s mother is clearly uncomfortable, especially when her husband tells her to display it in the front window for the entire neighborhood to see. Only one thing draws Ralphie and his brother away from the glow of electric sex gleaming in the window, and thats their favorite radio program; Little Orphan Annie.The next day at school, Ralphie hands in his theme and has a momentary daydream where his paper is given the best grade in class before being brought out of it by Miss Shields. After school, he and his friends are once again chased through the alley by Scut and Grover.Upon arriving home, he checks the mail to see that his long awaited package from the Little Orphan Annie Secret Society with his secret message decoder pin has arrived. He listens to the encrypted message on the radio that night and rushes up to the bathroom to decode it, only to realize that the secret message is nothing but an advertisement for Ovaltine. Wiser, but nonetheless disappointed, Ralphie casually swears under his breath.Later that night, the furnace blows black smoke into the kitchen again and the Old Man rushes down to do battle. Mrs. Parker appears complacent as she strolls into the living room with a watering can before a loud crash is heard. Ralphie watches as his father rushes up the stairs and finds his wife holding his broken lamp. She admits it was an accident before shouting, after Mr. Parker claims she was jealous that he won it, that it was the ugliest lamp she\\'s ever seen. Mr. Parker attempts to fix the lamp but it quickly falls apart, much to his wife\\'s amusement. He musters all the dignity he can as he takes the remains to the back yard and buries them.At school, the students bring in apples as small gifts for Miss Shields before Christmas. Ralphie gives her a large fruit basket, hoping that it will help sway her final decision on his paper.That evening, the family goes out to pick a Christmas tree. On the way home, the car blows a tire and Mr. Parker goes outside to fix it. When his mother encourages him to help his father, Ralphie is only happy to do so, but when his father accidentally knocks the hubcap that Ralphie is using to hold the tire bolts out of his hands, Ralphie utters the big one that he heard his father say in private over and over again. Ralphie says: \"oh, fudge!\" (Actually the F-dash-dash-dash word).At home, his mother puts a bar of soap in his mouth, one that he dislikes in taste above all others he\\'s had the opportunity to sample. His mother asks where hes heard that word and, although Ralphie admits to us that his old man used the word as fluently as an artist would use paint, he chickens out and blurts out his friend Schwartz\\'s name. When Mrs. Parker calls Schwartz\\'s mother and tells her, we hear her screaming maniacally and giving Schwartz a sound beating.Sent to bed early, Ralphie cries to himself and fantasizes about visiting his parents years into the future to reveal that all the soap sessions his mother gave him resulted in premature blindness, causing his parents to moan and grieve over their wrongdoing.At school, Ralphie is handed his theme back from Miss Shields. He looks in horror at the large C+ stamped across the top with the phrase \"you\\'ll shoot your eye out\". He imagines his teacher clad in a witch\\'s outfit, laughing at him next to his harlequin mother who must have surely gotten to her. Ralphie spends the rest of the day in class feeling depressed and hopeless that he\\'ll never get the Ryder BB gun.On the way home, Ralphie walks alone and is suddenly hit in the face with a snowball. He takes his glasses off and sees Scut Farkus and Grover Dill approach him. Ralphie tears up until Scut starts to mock him and laugh, something that causes Ralphie, in all his disappointment and anguish, to snap and charge angrily at Scut, tackling him to the ground and beating him. Grover runs off as the neighborhood kids cheer Ralphie on. Randy picks up his discarded glasses and goes to get their mother who arrives just as Ralphie is finishing a rant of slurred curses. She gets a distraught Ralphie off of Scut and helps him walk home. Scut is left to pick himself up with a bloodied nose.Ralphie is inconsolable by the time he gets home, though his mother tries to calm him and puts him to bed until dinner. Meanwhile, Randy hides himself under the kitchen sink, crying that \"Daddy\\'s gonna kill Ralphie\". When Mr. Parker does come home, Ralphie goes downstairs, fearing the worst and knowing full well the mix of bad words he\\'d said during the fight. However, his mother is sympathetic and downplays the fight to Mr. Parker, giving a grateful Ralphie a reprieve. As Ralphie goes to sleep that night, the \"Scut Farkus Affair\" behind him, he decides the best way to receive his BB gun is to ask Santa himself.The next night, (Christmas Eve) the family goes downtown to watch the Christmas parade. Ralphie is impatient and keeps asking to leave early so that they can see Santa Claus. As soon as Santa goes by in his float, his parents concede and take him and Randy to the department store where Santa (Jeff Gillen) sits atop a frosty mountain, a long line of kids on one side and a slide going down on the other. Ralphie\\'s parents let him take Randy while they go off on their own. Stuck at the end of a very long line, and with a Santa enthusiast nicknamed Goggles (David Svoboda) to awkwardly content with, Ralphie can only wonder if he\\'ll make it to see Santa before closing time. When they finally make it to the top, Goggles sits on Santa\\'s lap and immediately starts screaming before being put on the slide. Randy follows suit and Ralphie is escorted by an irritable helper elf (Patty Johnson) to sit on Santa\\'s lap. His perspective, as he\\'s swung around, shows clearly why most kids are afraid of Santa. In shock himself by Santa\\'s intimindating face, Ralphie is unable to tell Santa exactly what he wants. Santa suggests a football to which Ralphie numbly agrees. He comes to his senses just as he\\'s about to go down the slide and stops himself, struggling back to the top where he blurts out what he really wants. He gives his best smile, but Santa merely repeats what Ralphie fears, \"you\\'ll shoot your eye out, kid\" before putting his boot to Ralphie\\'s forehead and pushing him down the slide. Ralphie\\'s parents collect him and Randy at the bottom and take them home where they decorate the tree (a task that results in blowing a dangerously packed outlet). The boys are then ushered quickly up the stairs to bed.The next morning, Ralphie wakes up to see that fresh snow has fallen overnight and goes downstairs eagerly with his brother, who claims that everything in sight is his. Their parents follow suit and presents are unwrapped with frantic excitement (except for socks). When all is said and done, Randy lies sleeping amid the wrappings with his toy zeppelin as Ralphie sits on the couch with his parents. His father asks if he got everything he wanted that year before pointing out a mysterious package behind the desk. Ralphie goes to unwrap it and finds what he thought he\\'d never get; the Red Ryder BB gun. His father chuckles as he fills it with BB pellets and asks to try it out. Mr. Parker explains to his wife that he had one when he was eight years old, though she still worries Ralphie will hurt himself. Ralphie runs outside and sets up his metal target board while his father drools over the Christmas turkey his mother is making.Ralphie takes aim, fires, and falls back; the pellet having bounced off the target and hitting him on the cheek, knocking his glasses off. Fearful for a second that he actually did shoot his eye out, the half-blind Ralphie collects himself and looks for his glasses but accidentally steps on them, breaking them. Despondent, he tries to think of a way to explain the accident to his mother and decides that an icicle falling off the garage would have to work. He fakes some tears and goes to his mother. She takes him to the bathroom upstairs to wash his face off (though Ralphie is ecstatic that his plan worked) and gives him an old pair of glasses to use.Meanwhile, the Bumpuses\\' street bloodhounds get into the house and run rampant through the kitchen, eating all of the turkey. Mr. Parker chases the dogs out, yelling at the top of his lungs, before announcing to everyone that they\\'re going out to eat. They go to a Chinese restaurant where the family listens to the waiters\\' attempts to sing carols before the main course is brought out, with its head still intact. The owner (John Wong) casually takes out a butcher knife and chops the head off while the family claps and begin to eat.That night, Ralphie sleeps with his Red Ryder held close, the best Christmas gift he ever received, dreaming of hunting ducks and making spectacular shots.'},\n",
       " {'label': 0,\n",
       "  'text': 'Jimmy Woods is a young boy who has suffered from an unnamed, but serious mental disorder ever since his twin sister Jennifer drowned in the Green River two years earlier. He does not interact with anyone, barely ever speaks, spends most of his time building things out of blocks or boxes, and he always carries his lunch box with him. He is determined to go to \"California\", at first nearly the only word he can say since the tragedy. The trauma of the drowning and Jimmy\\'s condition have broken up his family; he lives with his mother Christine Bateman and stepfather, while his half-brothers Corey and Nick live with their father Sam. When Jimmy is put into an institution, Corey breaks him out and runs away with him to California. Christine and her husband hire Putnam, a greedy and sleazy runaway-child bounty hunter, to bring back only Jimmy; he competes with Sam and Nick to find the boys, and each group sabotages the other\\'s efforts, resulting in chaotic confrontations.\\nAlong the way, Corey and Jimmy meet a girl named Haley Brooks, who is on her way home to Reno. After discovering that Jimmy has an innate skill for playing video games, Haley (who nicknames him \"the Wizard\") tells them about \"Video Armageddon\", a video-game tournament with a $50,000 cash prize. She agrees to help the two reach Los Angeles to participate for a cut of the money. By doing so, they hope to prove that Jimmy does not need to live in an institution. The trio hitchhike across the country, using Jimmy\\'s skill and appearance to hustle people out of their money by playing video games. Along the way, they encounter Lucas Barton, a popular preteen savvy video-game big-shot who owns a Power Glove and shows his skills at Rad Racer, declaring he is also entering the tournament.\\nThey finally arrive in Reno, where it is revealed that Haley wants her share of the prize money to help her father buy a house. With the help of an acquaintance trucker, Spanky, they use money won at the craps tables to train Jimmy on several games in the Reno arcades, using Nintendo PlayChoice-10 machines. After a difficult search, Putnam catches up with the trio, capturing and losing Jimmy twice. At the tournament, which is held at Universal Studios Hollywood located in Spartacus Square, Jimmy qualifies as a finalist after a preliminary round of Ninja Gaiden. In between rounds, Putnam chases the kids through the park and almost causes Jimmy to miss the final round. The Woodses, the Batemans, and Putnam convene in the crowd as Jimmy competes with Lucas and another finalist in a game of Super Mario Bros. 3, which at the time had not been released in the United States. Jimmy wins the tournament at the last second after finding a Warp Whistle and getting the star, thereby winning $50,000.\\nOn their way home, the family passes by the Cabazon Dinosaurs, a tourist trap, and Jimmy becomes so excited and restless that they pull over. He runs from the car up into one of the dinosaurs, his family in pursuit. Inside, Jimmy takes from his lunchbox one of his pictures of Jennifer, taken at the foot of the dinosaur with the rest of the family during a vacation, and Corey realizes that he simply wanted to leave his sister\\'s mementos in a place where she was happy, which is why Jimmy wanted to come to California in the first place. He leaves the lunchbox inside the dinosaur and, at Christine\\'s request, Sam drives the boys and Haley home. Haley kisses Jimmy and Corey after which Jimmy kisses Haley on her cheek as she laughs.'},\n",
       " {'label': 0,\n",
       "  'text': \"On Christmas Eve, in 19th Century London, Charles Dickens (played by Gonzo the Great) and his friend Rizzo act as narrators throughout the film. Ebenezer Scrooge, a surly money-lender, does not share the merriment of Christmas. Scrooge rejects his nephew Fred's invitation to Christmas dinner, dismisses two gentlemen's collecting money for charity, and tosses a wreath at a carol singing Bean Bunny. His loyal employee Bob Cratchit and the other bookkeepers request to have Christmas Day off since there will be no business for Scrooge on the day, to which he reluctantly agrees. Scrooge leaves for home while the bookkeepers celebrate Christmas. In his house, Scrooge encounters the ghosts of his late business partners Jacob and Robert Marley, who warn him to repent his wicked ways or he will be condemned in the afterlife like they were, informing him that three spirits will visit him during the night.\\nAt one o'clock, Scrooge is visited by the childlike Ghost of Christmas Past who takes him back in time to his childhood and early adult life, Dickens and Rizzo hitching a ride too. They visit his lonely school days, and then his time as an employee under Fozziwig, who owned a rubber chicken factory. Fozziwig and his mother throw a Christmas party, Scrooge attends and meets a young woman named Belle, whom he falls in love with. However, the Ghost shows Scrooge how Belle left him when he chose money over her. A tearful Scrooge dismisses the Ghost as he returns to the present.\\nAt two o'clock, Scrooge meets the gigantic, merry Ghost of Christmas Present who shows him the joys and wonder of Christmas Day. Scrooge and the Ghost visit Bob's house, learning his family is surprisingly content with their small dinner, Scrooge taking pity on Bob's ill son Tiny Tim. The Ghost of Christmas Present abruptly ages, commenting that Tiny Tim will likely not survive until next Christmas. Scrooge and the Ghost go to a cemetery, where the latter fades away, informing Scrooge that the Ghost of Christmas Yet to Come will arrive shortly. A fog fills the cemetery, revealing the third Ghost, who appears as a tall, silent cloaked figure. While Dickens and Rizzo abandon the audience to avoid being frightened, the Ghost takes Scrooge into the future.\\nScrooge and the Ghost witness a group of businessmen discussing the death of an unnamed colleague where they would only attend the funeral if lunch is provided. In a den, Scrooge recognizes his charwoman, his laundress, and the local undertaker trading several stolen possessions of the deceased to a fence named Old Joe. The Ghost transports Scrooge to Bob's house, discovering Tiny Tim has died. Scrooge is escorted back to the cemetery, where the Ghost points out his own grave, revealing Scrooge was the man who died. Realizing this, Scrooge decides to change his ways.\\nAwakening in his bedroom on Christmas Day, Scrooge decides to surprise Bob's family with a turkey dinner, and ventures out with Bean, Dickens, Rizzo, and the charity workers to spread happiness and joy around London. Scrooge goes to the Cratchit house, at first putting on a stern demeanor, but reveals he intends on raising Bob's salary and pay off his mortgage. Dickens narrates how Scrooge became a secondary father to Tiny Tim, who escaped death. Scrooge, the Cratchits, and the neighborhood celebrate Christmas.\"}]"
      ]
     },
     "execution_count": 79,
     "metadata": {},
     "output_type": "execute_result"
    }
   ],
   "source": [
    "test_set"
   ]
  },
  {
   "cell_type": "code",
   "execution_count": 86,
   "metadata": {},
   "outputs": [
    {
     "name": "stdout",
     "output_type": "stream",
     "text": [
      "Forty years after directing and starring in a slasher movie, entitled The Dark Beneath, centred on a group of friends being killed by a masked killer, Ted Radford (Arthur Roberts) suffers a mental breakdown and is admitted to a psychiatric ward. In an attempt to cure Radford, his doctor (Richard Magarey) shows him the movie, despite the warnings of Dr. Wayne (Michael Swan). When Dr. Wayne arrives at the ward the following morning, he discovers evidence of a mass slaughter, however no bodies are to be found.\n",
      "Five years later, a local theater is showing The Dark Beneath for the first time since the murders. The theater's staff, Bridget (Rebekah Brandes), Rachael (Brea Grant), and Kenny (Shaun Ausmus) welcome a small group of customers, including a biker couple, Harley (Stan Ellsworth) and Babe (Melissa Steach), Dr. Wayne and Detective Barrons (Jon Briddell), who both believe Radford will appear, and Bridget's boyfriend Josh (Daniel Bonjour), who is accompanied by his friend Mario (Greg Cirulnick), Mario's girlfriend Samantha (Mandell Maughan) and their awkward friend Sully (Michael Schwartz). Bridget's younger brother Timmy (Justin Baric) also arrives, but is sent home due to his age. As the movie is about to begin, Josh convinces Bridget to allow Kenny to be in charge so she can watch the movie with him.\n",
      "However, after a while Bridget becomes unsettled by the movie and enters the lobby, where it is revealed she was abused by her father as a child. At this time, Kenny enters the basement to retrieve stock, but is attacked by the same killer from the movie, and is ultimately stabbed to death with a large corkscrew. His death is shown to the watchers in the theater, however they continue to believe it is part of the movie. Meanwhile, Josh convinces Bridget to enter the theater once again, while Sully goes to use the restroom. However, while returning he is too attacked and has his heart gored out. Bridget, Josh, Mario and Samantha think of it as an elaborate prank by Sully, but Rachael too is stabbed to death for all to see, prompting everyone to investigate. The Detective reveals himself to the rest of the group, who realise the deaths are real. The group try to get help, but find their phones do not have a signal and the theater's phone is dead. They also discover Timmy, who snuck back in to watch the movie. Suddenly, Radford appears and slashes Dr. Wayne's throat. The Detective shoots Radford, but there is little effect as Dr. Wayne is soon seen being dragged into a basement on the screen.\n",
      "Timmy tells the group he snuck in through the upstairs window, and so the group decide to try and escape. However, while doing so the window slams shut on Samantha's fingers, trapping her and forcing the others to flee. The Detective attempts to save Samantha, however Radford stabs both to death. Regrouping downstairs, the survivours find a police officer outside the front entrance, however Radford makes the group unable to be seen, and the police officer soon leaves. Desperate, the group resort to trying to break the projector, and thus stop the movie. However, the door is locked, and so Timmy enters the ventilation system. He makes it to the room and lets the others in, where Harley breaks the projector just in time to save Josh who is attacked by Radford. The projector quickly repairs itself, and Radford re-appears and chases the group. Harley, Babe and Timmy hide in a closet but the killer breaks through the door and stabs Harley in the stomach with the corkscrew, while the others get away.\n",
      "Bridget, Josh and Mario make their way back to the theater where they witness Babe being stabbed to death on the screen. Mario ditches his friends, but is eventually electrocuted to death by Radford. Josh also falls victim to Radford, while Bridget finds Timmy. Together, the pair are sucked into the movie world where Bridget finds herself in a basement. Radford tortures her, until she is able to escape and free Timmy. They are quickly ambushed by the killer in the movies mother, but Timmy stabs him in the back with a sickle and once again they continue their escape, with Radford chasing them. Bridget realises the movie is coming to an end, and so sacrifices herself to remain trapped in the movie world to save Timmy, who enters the real world. The police arrive at the theater to find Timmy the only survivour.\n",
      "0\n",
      "tag:  cult label:  0\n"
     ]
    }
   ],
   "source": [
    "from transformers import AutoTokenizer, AutoModelForSequenceClassification\n",
    "import torch\n",
    "\n",
    "tokenizer = AutoTokenizer.from_pretrained(\"bert_film_classifier\")\n",
    "model = AutoModelForSequenceClassification.from_pretrained(\"bert_film_classifier\")\n",
    "\n",
    "text = test_set[6]['text']\n",
    "print(text)\n",
    "print(test_set[6]['label'])\n",
    "\n",
    "inputs = tokenizer(text, \n",
    "                   return_tensors=\"pt\", \n",
    "                   truncation=True,\n",
    "                   padding=True,\n",
    "                   max_length=512,\n",
    "                   add_special_tokens = True)\n",
    "with torch.no_grad():\n",
    "    logits = model(**inputs).logits\n",
    "\n",
    "predicted_class_id = logits.argmax().item()\n",
    "print('tag: ', model.config.id2label[predicted_class_id], 'label: ', predicted_class_id)"
   ]
  },
  {
   "cell_type": "code",
   "execution_count": null,
   "metadata": {},
   "outputs": [],
   "source": []
  }
 ],
 "metadata": {
  "kernelspec": {
   "display_name": "os",
   "language": "python",
   "name": "python3"
  },
  "language_info": {
   "codemirror_mode": {
    "name": "ipython",
    "version": 3
   },
   "file_extension": ".py",
   "mimetype": "text/x-python",
   "name": "python",
   "nbconvert_exporter": "python",
   "pygments_lexer": "ipython3",
   "version": "3.11.5"
  }
 },
 "nbformat": 4,
 "nbformat_minor": 2
}
